{
 "cells": [
  {
   "cell_type": "code",
   "execution_count": 1,
   "metadata": {},
   "outputs": [
    {
     "name": "stdout",
     "output_type": "stream",
     "text": [
      "Requirement already satisfied: pandas in /Users/magnus/repos/TDT05-classification-project/venv/lib/python3.8/site-packages (1.3.3)\n",
      "Requirement already satisfied: pytz>=2017.3 in /Users/magnus/repos/TDT05-classification-project/venv/lib/python3.8/site-packages (from pandas) (2021.1)\n",
      "Requirement already satisfied: numpy>=1.17.3 in /Users/magnus/repos/TDT05-classification-project/venv/lib/python3.8/site-packages (from pandas) (1.19.5)\n",
      "Requirement already satisfied: python-dateutil>=2.7.3 in /Users/magnus/repos/TDT05-classification-project/venv/lib/python3.8/site-packages (from pandas) (2.8.2)\n",
      "Requirement already satisfied: six>=1.5 in /Users/magnus/repos/TDT05-classification-project/venv/lib/python3.8/site-packages (from python-dateutil>=2.7.3->pandas) (1.15.0)\n",
      "\u001b[33mWARNING: You are using pip version 21.1.1; however, version 21.3 is available.\n",
      "You should consider upgrading via the '/Users/magnus/repos/TDT05-classification-project/venv/bin/python -m pip install --upgrade pip' command.\u001b[0m\n",
      "Requirement already satisfied: numpy in /Users/magnus/repos/TDT05-classification-project/venv/lib/python3.8/site-packages (1.19.5)\n",
      "\u001b[33mWARNING: You are using pip version 21.1.1; however, version 21.3 is available.\n",
      "You should consider upgrading via the '/Users/magnus/repos/TDT05-classification-project/venv/bin/python -m pip install --upgrade pip' command.\u001b[0m\n",
      "Requirement already satisfied: catboost in /Users/magnus/repos/TDT05-classification-project/venv/lib/python3.8/site-packages (0.26.1)\n",
      "Requirement already satisfied: numpy>=1.16.0 in /Users/magnus/repos/TDT05-classification-project/venv/lib/python3.8/site-packages (from catboost) (1.19.5)\n",
      "Requirement already satisfied: pandas>=0.24.0 in /Users/magnus/repos/TDT05-classification-project/venv/lib/python3.8/site-packages (from catboost) (1.3.3)\n",
      "Requirement already satisfied: plotly in /Users/magnus/repos/TDT05-classification-project/venv/lib/python3.8/site-packages (from catboost) (5.3.1)\n",
      "Requirement already satisfied: scipy in /Users/magnus/repos/TDT05-classification-project/venv/lib/python3.8/site-packages (from catboost) (1.7.1)\n",
      "Requirement already satisfied: matplotlib in /Users/magnus/repos/TDT05-classification-project/venv/lib/python3.8/site-packages (from catboost) (3.4.3)\n",
      "Requirement already satisfied: graphviz in /Users/magnus/repos/TDT05-classification-project/venv/lib/python3.8/site-packages (from catboost) (0.17)\n",
      "Requirement already satisfied: six in /Users/magnus/repos/TDT05-classification-project/venv/lib/python3.8/site-packages (from catboost) (1.15.0)\n",
      "Requirement already satisfied: pytz>=2017.3 in /Users/magnus/repos/TDT05-classification-project/venv/lib/python3.8/site-packages (from pandas>=0.24.0->catboost) (2021.1)\n",
      "Requirement already satisfied: python-dateutil>=2.7.3 in /Users/magnus/repos/TDT05-classification-project/venv/lib/python3.8/site-packages (from pandas>=0.24.0->catboost) (2.8.2)\n",
      "Requirement already satisfied: pyparsing>=2.2.1 in /Users/magnus/repos/TDT05-classification-project/venv/lib/python3.8/site-packages (from matplotlib->catboost) (2.4.7)\n",
      "Requirement already satisfied: kiwisolver>=1.0.1 in /Users/magnus/repos/TDT05-classification-project/venv/lib/python3.8/site-packages (from matplotlib->catboost) (1.3.2)\n",
      "Requirement already satisfied: pillow>=6.2.0 in /Users/magnus/repos/TDT05-classification-project/venv/lib/python3.8/site-packages (from matplotlib->catboost) (8.3.2)\n",
      "Requirement already satisfied: cycler>=0.10 in /Users/magnus/repos/TDT05-classification-project/venv/lib/python3.8/site-packages (from matplotlib->catboost) (0.10.0)\n",
      "Requirement already satisfied: tenacity>=6.2.0 in /Users/magnus/repos/TDT05-classification-project/venv/lib/python3.8/site-packages (from plotly->catboost) (8.0.1)\n"
     ]
    }
   ],
   "source": [
    "# Install packages\n",
    "import sys\n",
    "!{sys.executable} -m pip install pandas\n",
    "!{sys.executable} -m pip install numpy\n",
    "!{sys.executable} -m pip install catboost"
   ]
  },
  {
   "cell_type": "code",
   "execution_count": null,
   "metadata": {},
   "outputs": [],
   "source": [
    "# Imports\n",
    "import pandas as pd\n",
    "import numpy as np\n",
    "from catboost import CatBoostClassifier, metrics\n",
    "\n",
    "RANDOM_SEED = 42  # For reproducibility"
   ]
  },
  {
   "cell_type": "code",
   "execution_count": null,
   "metadata": {},
   "outputs": [],
   "source": [
    "# Loading the data\n",
    "training_data = pd.read_csv('../input/tdt05-2021-challenge-2/challenge2_train.csv', index_col=0)\n",
    "X_test = pd.read_csv('../input/tdt05-2021-challenge-2/challenge2_test.csv', index_col=0)\n",
    "training_data"
   ]
  },
  {
   "cell_type": "code",
   "execution_count": null,
   "metadata": {},
   "outputs": [],
   "source": [
    "# Outlier removal by interquartile range (IQR) method\n",
    "interval_features = ['f11', 'f17', 'f24', 'f28']\n",
    "Q1 = training_data[interval_features].quantile(0.25)\n",
    "Q3 = training_data[interval_features].quantile(0.75)\n",
    "IQR = Q3 - Q1\n",
    "\n",
    "initial_row_count = training_data.shape[0]\n",
    "\n",
    "training_data = training_data[~(training_data > (Q3 + 1.5 * IQR)).any(axis=1)]\n",
    "\n",
    "rows_removed = initial_row_count - training_data.shape[0]\n",
    "print(f'Rows removed: {rows_removed}')"
   ]
  },
  {
   "cell_type": "code",
   "execution_count": null,
   "metadata": {},
   "outputs": [],
   "source": [
    "# Imputing\n",
    "fill_value = -999 \n",
    "\n",
    "training_data = training_data.fillna(fill_value)\n",
    "X_test = X_test.fillna(fill_value)"
   ]
  },
  {
   "cell_type": "code",
   "execution_count": null,
   "metadata": {},
   "outputs": [],
   "source": [
    "# Convert numerical features to categorical\n",
    "categorical_numerical_features = ['f0', 'f6', 'f20']\n",
    "\n",
    "training_data[categorical_numerical_features] = training_data[categorical_numerical_features].astype(str)\n",
    "X_test[categorical_numerical_features] = X_test[categorical_numerical_features].astype(str)"
   ]
  },
  {
   "cell_type": "code",
   "execution_count": null,
   "metadata": {},
   "outputs": [],
   "source": [
    "# Feature dropping\n",
    "dropped_features = []\n",
    "initial_column_count = training_data.shape[1]\n",
    "\n",
    "training_data.drop(dropped_features, axis=1, inplace=True)\n",
    "X_test.drop(dropped_features, axis=1, inplace=True)\n",
    "\n",
    "columns_removed = initial_column_count - training_data.shape[1]\n",
    "print(f'Columns removed: {columns_removed}')"
   ]
  },
  {
   "cell_type": "code",
   "execution_count": null,
   "metadata": {},
   "outputs": [],
   "source": [
    "# Partition the data\n",
    "X = training_data.drop(columns=['target']).copy()\n",
    "y = training_data[['target']].copy()"
   ]
  },
  {
   "cell_type": "code",
   "execution_count": null,
   "metadata": {},
   "outputs": [],
   "source": [
    "# Training\n",
    "categorical_feature_indices_after_dropping = [0, 1, 2, 4, 6, 8, 9, 10, 12, 13, 14, 15, 18, 20, 22, 23, 25, 26]\n",
    "\n",
    "catboost_model = CatBoostClassifier(\n",
    "    custom_loss=[metrics.Accuracy()],\n",
    "    random_seed=RANDOM_SEED,\n",
    "    logging_level='Silent'\n",
    ")\n",
    "\n",
    "print('Training started...')\n",
    "\n",
    "catboost_model.fit(\n",
    "    X, y,\n",
    "    cat_features=categorical_feature_indices_after_dropping\n",
    ")\n",
    "\n",
    "print('Training completed.')"
   ]
  },
  {
   "cell_type": "code",
   "execution_count": null,
   "metadata": {},
   "outputs": [],
   "source": [
    "# Prediction\n",
    "y_pred = catboost_model.predict(X_test, prediction_type='Probability')\n",
    "predictions = pd.DataFrame({'id': X_test.index, 'target': y_pred[:,1]})\n",
    "\n",
    "path = '../output/catboost.txt'\n",
    "predictions.to_csv(path, index=False)\n",
    "print(f'Saved results to file with path {path}.')"
   ]
  },
  {
   "cell_type": "code",
   "execution_count": null,
   "metadata": {},
   "outputs": [],
   "source": [
    "import shap\n",
    "sorted_feature_importance = catboost_model.get_feature_importance()\n",
    "explainer = shap.TreeExplainer(catboost_model)\n",
    "shap_values = explainer.shap_values(X_test)\n",
    "shap.summary_plot(shap_values, X_test, feature_names=X_test.index, max_display=X_test.shape[1])"
   ]
  }
 ],
 "metadata": {
  "interpreter": {
   "hash": "513b337271411f4177ffe921e09c301a07e873c12860d03f0dc956891b1178ea"
  },
  "kernelspec": {
   "display_name": "Python 3.8.6 64-bit ('venv': venv)",
   "name": "python3"
  },
  "language_info": {
   "codemirror_mode": {
    "name": "ipython",
    "version": 3
   },
   "file_extension": ".py",
   "mimetype": "text/x-python",
   "name": "python",
   "nbconvert_exporter": "python",
   "pygments_lexer": "ipython3",
   "version": "3.8.6"
  }
 },
 "nbformat": 4,
 "nbformat_minor": 2
}
