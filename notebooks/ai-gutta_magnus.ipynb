{
 "cells": [
  {
   "cell_type": "markdown",
   "source": [
    "# Data exploration"
   ],
   "metadata": {
    "editable": false
   }
  },
  {
   "cell_type": "markdown",
   "source": [
    "## Table of contents\n",
    "0. Table of contents\n",
    "1. TODOs\n",
    "2. Imports and loading the data \n",
    "3. Exploratory_data_analysis\n",
    "4. Data cleaning\n",
    "5. Training\n",
    "6. Saving"
   ],
   "metadata": {
    "editable": false
   }
  },
  {
   "cell_type": "markdown",
   "source": [
    "## TODOs\n",
    "\n",
    "* Prøve å konvertere null-verdier til 0, og å ha null som en egen kategori\n",
    "* Teste med både OHE og annen type category encoding "
   ],
   "metadata": {
    "editable": false
   }
  },
  {
   "cell_type": "markdown",
   "source": [
    "# Imports and loading the data"
   ],
   "metadata": {}
  },
  {
   "cell_type": "code",
   "execution_count": 130,
   "source": [
    "# Imports\n",
    "import tensorflow as tf\n",
    "import pandas as pd\n",
    "import numpy as np\n",
    "import seaborn as sns\n",
    "import matplotlib.pyplot as plt\n",
    "from matplotlib import rcParams\n",
    "\n",
    "print('Tensorflow version:', tf.__version__)\n",
    "rcParams['figure.figsize'] = 20,10"
   ],
   "outputs": [
    {
     "output_type": "stream",
     "name": "stdout",
     "text": [
      "Tensorflow version: 2.6.0\n"
     ]
    }
   ],
   "metadata": {
    "execution": {
     "iopub.execute_input": "2021-10-11T09:48:35.033793Z",
     "iopub.status.busy": "2021-10-11T09:48:35.032907Z",
     "iopub.status.idle": "2021-10-11T09:48:35.040299Z",
     "shell.execute_reply": "2021-10-11T09:48:35.039452Z",
     "shell.execute_reply.started": "2021-10-11T09:48:35.033754Z"
    }
   }
  },
  {
   "cell_type": "code",
   "execution_count": 131,
   "source": [
    "# Loading the data\n",
    "training_data = pd.read_csv('../input/tdt05-2021-challenge-2/challenge2_train.csv', index_col=0)\n",
    "X_test = pd.read_csv('../input/tdt05-2021-challenge-2/challenge2_test.csv', index_col=0)\n",
    "\n",
    "print('Training shape:', training_data.shape)\n",
    "print('Test shape:', X_test.shape)\n",
    "summary_statistics = pd.DataFrame(\n",
    "    {\n",
    "        'dtype': training_data.dtypes,\n",
    "        'categories': training_data.nunique(),\n",
    "        '#nan': training_data.isnull().sum(axis = 0),\n",
    "    }, \n",
    "    index=training_data.columns,\n",
    ")\n",
    "\n",
    "print(summary_statistics)\n",
    "training_data.head(5)"
   ],
   "outputs": [
    {
     "output_type": "stream",
     "name": "stdout",
     "text": [
      "Training shape: (50000, 30)\n",
      "Test shape: (50000, 29)\n",
      "          dtype  categories   #nan\n",
      "target    int64           2      0\n",
      "f0      float64           2   1459\n",
      "f1       object         190   1487\n",
      "f2       object           6   1439\n",
      "f3      float64           3   1488\n",
      "f4       object           2   1498\n",
      "f5      float64          13  11617\n",
      "f6      float64           2   1490\n",
      "f7      float64           6   1525\n",
      "f8       object        2177   1490\n",
      "f9       object           5   1489\n",
      "f10      object          26   1501\n",
      "f11     float64        7633    145\n",
      "f12      object         222   1541\n",
      "f13      object          15   1447\n",
      "f14      object        1204   1451\n",
      "f15      object         222   1477\n",
      "f16     float64          12   1460\n",
      "f17     float64       19209   9762\n",
      "f18      object           6   1556\n",
      "f19     float64           6   1437\n",
      "f20     float64           4   1464\n",
      "f21     float64           7   1510\n",
      "f22      object           3   1513\n",
      "f23      object        1495   1516\n",
      "f24     float64        4148   2696\n",
      "f25      object           2   1537\n",
      "f26      object           2   1474\n",
      "f27     float64           4   1464\n",
      "f28     float64        8060  13112\n"
     ]
    },
    {
     "output_type": "execute_result",
     "data": {
      "text/html": [
       "<div>\n",
       "<style scoped>\n",
       "    .dataframe tbody tr th:only-of-type {\n",
       "        vertical-align: middle;\n",
       "    }\n",
       "\n",
       "    .dataframe tbody tr th {\n",
       "        vertical-align: top;\n",
       "    }\n",
       "\n",
       "    .dataframe thead th {\n",
       "        text-align: right;\n",
       "    }\n",
       "</style>\n",
       "<table border=\"1\" class=\"dataframe\">\n",
       "  <thead>\n",
       "    <tr style=\"text-align: right;\">\n",
       "      <th></th>\n",
       "      <th>target</th>\n",
       "      <th>f0</th>\n",
       "      <th>f1</th>\n",
       "      <th>f2</th>\n",
       "      <th>f3</th>\n",
       "      <th>f4</th>\n",
       "      <th>f5</th>\n",
       "      <th>f6</th>\n",
       "      <th>f7</th>\n",
       "      <th>f8</th>\n",
       "      <th>...</th>\n",
       "      <th>f19</th>\n",
       "      <th>f20</th>\n",
       "      <th>f21</th>\n",
       "      <th>f22</th>\n",
       "      <th>f23</th>\n",
       "      <th>f24</th>\n",
       "      <th>f25</th>\n",
       "      <th>f26</th>\n",
       "      <th>f27</th>\n",
       "      <th>f28</th>\n",
       "    </tr>\n",
       "    <tr>\n",
       "      <th>id</th>\n",
       "      <th></th>\n",
       "      <th></th>\n",
       "      <th></th>\n",
       "      <th></th>\n",
       "      <th></th>\n",
       "      <th></th>\n",
       "      <th></th>\n",
       "      <th></th>\n",
       "      <th></th>\n",
       "      <th></th>\n",
       "      <th></th>\n",
       "      <th></th>\n",
       "      <th></th>\n",
       "      <th></th>\n",
       "      <th></th>\n",
       "      <th></th>\n",
       "      <th></th>\n",
       "      <th></th>\n",
       "      <th></th>\n",
       "      <th></th>\n",
       "      <th></th>\n",
       "    </tr>\n",
       "  </thead>\n",
       "  <tbody>\n",
       "    <tr>\n",
       "      <th>0</th>\n",
       "      <td>0</td>\n",
       "      <td>1.0</td>\n",
       "      <td>gL</td>\n",
       "      <td>e</td>\n",
       "      <td>3.0</td>\n",
       "      <td>A</td>\n",
       "      <td>NaN</td>\n",
       "      <td>0.0</td>\n",
       "      <td>6.0</td>\n",
       "      <td>96ae67d3e</td>\n",
       "      <td>...</td>\n",
       "      <td>0.5</td>\n",
       "      <td>0.0</td>\n",
       "      <td>3.0</td>\n",
       "      <td>R</td>\n",
       "      <td>328b0cf4e</td>\n",
       "      <td>0.834041</td>\n",
       "      <td>T</td>\n",
       "      <td>N</td>\n",
       "      <td>1.0</td>\n",
       "      <td>14.2364</td>\n",
       "    </tr>\n",
       "    <tr>\n",
       "      <th>1</th>\n",
       "      <td>0</td>\n",
       "      <td>0.0</td>\n",
       "      <td>Rj</td>\n",
       "      <td>c</td>\n",
       "      <td>1.0</td>\n",
       "      <td>A</td>\n",
       "      <td>7.0</td>\n",
       "      <td>1.0</td>\n",
       "      <td>4.0</td>\n",
       "      <td>9fcf422f2</td>\n",
       "      <td>...</td>\n",
       "      <td>0.4</td>\n",
       "      <td>0.0</td>\n",
       "      <td>1.0</td>\n",
       "      <td>NaN</td>\n",
       "      <td>328b0cf4e</td>\n",
       "      <td>0.686021</td>\n",
       "      <td>T</td>\n",
       "      <td>N</td>\n",
       "      <td>1.0</td>\n",
       "      <td>NaN</td>\n",
       "    </tr>\n",
       "    <tr>\n",
       "      <th>2</th>\n",
       "      <td>0</td>\n",
       "      <td>NaN</td>\n",
       "      <td>In</td>\n",
       "      <td>a</td>\n",
       "      <td>1.0</td>\n",
       "      <td>A</td>\n",
       "      <td>10.0</td>\n",
       "      <td>1.0</td>\n",
       "      <td>6.0</td>\n",
       "      <td>a5adff44e</td>\n",
       "      <td>...</td>\n",
       "      <td>0.5</td>\n",
       "      <td>1.0</td>\n",
       "      <td>3.0</td>\n",
       "      <td>G</td>\n",
       "      <td>0c67fcbbd</td>\n",
       "      <td>1.141271</td>\n",
       "      <td>T</td>\n",
       "      <td>N</td>\n",
       "      <td>3.0</td>\n",
       "      <td>NaN</td>\n",
       "    </tr>\n",
       "    <tr>\n",
       "      <th>3</th>\n",
       "      <td>1</td>\n",
       "      <td>1.0</td>\n",
       "      <td>rA</td>\n",
       "      <td>c</td>\n",
       "      <td>3.0</td>\n",
       "      <td>A</td>\n",
       "      <td>7.0</td>\n",
       "      <td>1.0</td>\n",
       "      <td>1.0</td>\n",
       "      <td>15c90ab2e</td>\n",
       "      <td>...</td>\n",
       "      <td>0.6</td>\n",
       "      <td>1.0</td>\n",
       "      <td>1.0</td>\n",
       "      <td>G</td>\n",
       "      <td>fee4e3007</td>\n",
       "      <td>0.662382</td>\n",
       "      <td>T</td>\n",
       "      <td>N</td>\n",
       "      <td>3.0</td>\n",
       "      <td>NaN</td>\n",
       "    </tr>\n",
       "    <tr>\n",
       "      <th>4</th>\n",
       "      <td>0</td>\n",
       "      <td>1.0</td>\n",
       "      <td>pE</td>\n",
       "      <td>c</td>\n",
       "      <td>3.0</td>\n",
       "      <td>A</td>\n",
       "      <td>7.0</td>\n",
       "      <td>0.0</td>\n",
       "      <td>6.0</td>\n",
       "      <td>b36490559</td>\n",
       "      <td>...</td>\n",
       "      <td>0.5</td>\n",
       "      <td>0.0</td>\n",
       "      <td>1.0</td>\n",
       "      <td>B</td>\n",
       "      <td>587e040bd</td>\n",
       "      <td>-1.000000</td>\n",
       "      <td>T</td>\n",
       "      <td>N</td>\n",
       "      <td>1.0</td>\n",
       "      <td>13.9537</td>\n",
       "    </tr>\n",
       "  </tbody>\n",
       "</table>\n",
       "<p>5 rows × 30 columns</p>\n",
       "</div>"
      ],
      "text/plain": [
       "    target   f0  f1 f2   f3 f4    f5   f6   f7         f8  ...  f19  f20  f21  \\\n",
       "id                                                         ...                  \n",
       "0        0  1.0  gL  e  3.0  A   NaN  0.0  6.0  96ae67d3e  ...  0.5  0.0  3.0   \n",
       "1        0  0.0  Rj  c  1.0  A   7.0  1.0  4.0  9fcf422f2  ...  0.4  0.0  1.0   \n",
       "2        0  NaN  In  a  1.0  A  10.0  1.0  6.0  a5adff44e  ...  0.5  1.0  3.0   \n",
       "3        1  1.0  rA  c  3.0  A   7.0  1.0  1.0  15c90ab2e  ...  0.6  1.0  1.0   \n",
       "4        0  1.0  pE  c  3.0  A   7.0  0.0  6.0  b36490559  ...  0.5  0.0  1.0   \n",
       "\n",
       "    f22        f23       f24 f25  f26  f27      f28  \n",
       "id                                                   \n",
       "0     R  328b0cf4e  0.834041   T    N  1.0  14.2364  \n",
       "1   NaN  328b0cf4e  0.686021   T    N  1.0      NaN  \n",
       "2     G  0c67fcbbd  1.141271   T    N  3.0      NaN  \n",
       "3     G  fee4e3007  0.662382   T    N  3.0      NaN  \n",
       "4     B  587e040bd -1.000000   T    N  1.0  13.9537  \n",
       "\n",
       "[5 rows x 30 columns]"
      ]
     },
     "metadata": {},
     "execution_count": 131
    }
   ],
   "metadata": {
    "editable": false,
    "execution": {
     "iopub.execute_input": "2021-10-11T09:48:35.209167Z",
     "iopub.status.busy": "2021-10-11T09:48:35.208320Z",
     "iopub.status.idle": "2021-10-11T09:48:35.796182Z",
     "shell.execute_reply": "2021-10-11T09:48:35.795231Z",
     "shell.execute_reply.started": "2021-10-11T09:48:35.209116Z"
    }
   }
  },
  {
   "cell_type": "markdown",
   "source": [
    "## Exploratory Data Analysis (EDA)"
   ],
   "metadata": {
    "editable": false
   }
  },
  {
   "cell_type": "code",
   "execution_count": 132,
   "source": [
    "plt.pie(\n",
    "    training_data['target'].value_counts(), \n",
    "    colors=sns.color_palette('pastel')[0:2], \n",
    "    labels=['0', '1'],\n",
    "    autopct='%.0f%%',\n",
    ")"
   ],
   "outputs": [
    {
     "output_type": "execute_result",
     "data": {
      "text/plain": [
       "([<matplotlib.patches.Wedge at 0x7f6b7fe1c610>,\n",
       "  <matplotlib.patches.Wedge at 0x7f6b7fe16160>],\n",
       " [Text(-0.9191603833421897, 0.6042716191368241, '0'),\n",
       "  Text(0.9191604116301847, -0.6042715761078207, '1')],\n",
       " [Text(-0.5013602090957398, 0.3296027013473586, '81%'),\n",
       "  Text(0.5013602245255552, -0.3296026778769931, '19%')])"
      ]
     },
     "metadata": {},
     "execution_count": 132
    },
    {
     "output_type": "display_data",
     "data": {
      "image/png": "[encoded data removed]",
      "text/plain": [
       "<Figure size 1440x720 with 1 Axes>"
      ]
     },
     "metadata": {}
    }
   ],
   "metadata": {
    "execution": {
     "iopub.execute_input": "2021-10-11T09:48:35.798555Z",
     "iopub.status.busy": "2021-10-11T09:48:35.798250Z",
     "iopub.status.idle": "2021-10-11T09:48:35.910507Z",
     "shell.execute_reply": "2021-10-11T09:48:35.909440Z",
     "shell.execute_reply.started": "2021-10-11T09:48:35.798517Z"
    }
   }
  },
  {
   "cell_type": "code",
   "execution_count": 133,
   "source": [
    "sns.catplot(data=training_data)"
   ],
   "outputs": [
    {
     "output_type": "execute_result",
     "data": {
      "text/plain": [
       "<seaborn.axisgrid.FacetGrid at 0x7f6b7fe16fa0>"
      ]
     },
     "metadata": {},
     "execution_count": 133
    },
    {
     "output_type": "display_data",
     "data": {
      "image/png": "[encoded data removed]",
      "text/plain": [
       "<Figure size 360x360 with 1 Axes>"
      ]
     },
     "metadata": {
      "needs_background": "light"
     }
    }
   ],
   "metadata": {
    "execution": {
     "iopub.execute_input": "2021-10-11T09:48:35.912692Z",
     "iopub.status.busy": "2021-10-11T09:48:35.912341Z",
     "iopub.status.idle": "2021-10-11T09:48:43.924315Z",
     "shell.execute_reply": "2021-10-11T09:48:43.923389Z",
     "shell.execute_reply.started": "2021-10-11T09:48:35.912652Z"
    }
   }
  },
  {
   "cell_type": "markdown",
   "source": [
    "# Feature engineering"
   ],
   "metadata": {}
  },
  {
   "cell_type": "markdown",
   "source": [
    "## Convert (possible) hexadecimal values to decimal"
   ],
   "metadata": {}
  },
  {
   "cell_type": "code",
   "execution_count": 134,
   "source": [
    "# Convert hexadecimal numbers to decimal\n",
    "hexadecimal_features = ['f8', 'f12', 'f14', 'f15', 'f23']\n",
    "\n",
    "func = lambda hex: int(hex, base=16)\n",
    "training_data[hexadecimal_features] = training_data[hexadecimal_features].applymap(func, na_action='ignore')\n",
    "X_test[hexadecimal_features] = X_test[hexadecimal_features].applymap(func, na_action='ignore')\n"
   ],
   "outputs": [],
   "metadata": {
    "execution": {
     "iopub.execute_input": "2021-10-11T09:48:43.926565Z",
     "iopub.status.busy": "2021-10-11T09:48:43.926267Z",
     "iopub.status.idle": "2021-10-11T09:48:43.933083Z",
     "shell.execute_reply": "2021-10-11T09:48:43.932213Z",
     "shell.execute_reply.started": "2021-10-11T09:48:43.926534Z"
    }
   }
  },
  {
   "cell_type": "markdown",
   "source": [
    "## Convert characters to numerical"
   ],
   "metadata": {}
  },
  {
   "cell_type": "code",
   "execution_count": 135,
   "source": [
    "# Convert binary numbers to decimal\n",
    "binary_to_decimal = { \n",
    "    0.0: 0, \n",
    "    1.0: 1, \n",
    "    10.0: 2, \n",
    "    11.0: 3 \n",
    "}\n",
    "\n",
    "training_data['f20'] = training_data['f20'].map(binary_to_decimal, na_action='ignore')\n",
    "X_test['f20'] = X_test['f20'].map(binary_to_decimal, na_action='ignore')"
   ],
   "outputs": [],
   "metadata": {
    "execution": {
     "iopub.execute_input": "2021-10-11T09:48:43.936084Z",
     "iopub.status.busy": "2021-10-11T09:48:43.935888Z",
     "iopub.status.idle": "2021-10-11T09:48:43.948314Z",
     "shell.execute_reply": "2021-10-11T09:48:43.947555Z",
     "shell.execute_reply.started": "2021-10-11T09:48:43.936061Z"
    }
   }
  },
  {
   "cell_type": "code",
   "execution_count": 136,
   "source": [
    "# Convert alphabetic characters to numbers: A=1, B=2, ..., Z=26\n",
    "alphabetic_features = ['f2', 'f10', 'f13', 'f18']\n",
    "\n",
    "func = lambda c: ord(c.lower()) - 96\n",
    "training_data[alphabetic_features] = training_data[alphabetic_features].applymap(func, na_action='ignore')\n",
    "X_test[alphabetic_features] = X_test[alphabetic_features].applymap(func, na_action='ignore')"
   ],
   "outputs": [],
   "metadata": {}
  },
  {
   "cell_type": "code",
   "execution_count": 137,
   "source": [
    "# Convert boolean features to 0.0 and 1.0\n",
    "mappings = {\n",
    "    'f4': {'B': 0.0, 'A': 1.0},\n",
    "    'f25': {'F': 1.0, 'T': 0.0},\n",
    "    'f26': {'S': 0.0, 'N': 1.0},\n",
    "}\n",
    "\n",
    "for feature, mapping in mappings.items():\n",
    "    training_data[feature] = training_data[feature].map(mapping, na_action='ignore')\n",
    "    X_test[feature] = X_test[feature].map(mapping, na_action='ignore')"
   ],
   "outputs": [],
   "metadata": {}
  },
  {
   "cell_type": "markdown",
   "source": [
    "## Correlation plot of numeric values\n",
    "\n",
    "We are only plotting the correlation of numeric features in this instance"
   ],
   "metadata": {}
  },
  {
   "cell_type": "code",
   "execution_count": 138,
   "source": [
    "# Correlation plot\n",
    "sns.heatmap(training_data.corr(), annot=False, cmap='viridis')"
   ],
   "outputs": [
    {
     "output_type": "execute_result",
     "data": {
      "text/plain": [
       "<AxesSubplot:>"
      ]
     },
     "metadata": {},
     "execution_count": 138
    },
    {
     "output_type": "display_data",
     "data": {
      "image/png": "[encoded data removed]",
      "text/plain": [
       "<Figure size 1440x720 with 2 Axes>"
      ]
     },
     "metadata": {
      "needs_background": "light"
     }
    }
   ],
   "metadata": {
    "execution": {
     "iopub.execute_input": "2021-10-11T09:48:43.950277Z",
     "iopub.status.busy": "2021-10-11T09:48:43.949574Z",
     "iopub.status.idle": "2021-10-11T09:48:45.493217Z",
     "shell.execute_reply": "2021-10-11T09:48:45.492426Z",
     "shell.execute_reply.started": "2021-10-11T09:48:43.950235Z"
    }
   }
  },
  {
   "cell_type": "markdown",
   "source": [
    "The correlation plot shows that **f20** and **f27** have a high correlation and one of these should be dropped to reduce the computational cost. We can also see that the features **f3** and **f16** have a higher correlation with the target value than others, and that we probably should somewhat focus our efforts on these."
   ],
   "metadata": {}
  },
  {
   "cell_type": "markdown",
   "source": [
    "### Feature description\n",
    "\n",
    "| Feature | Example | Note |\n",
    "| :-- | :-- | :-- |\n",
    "| target | 0 or 1 | This means that the problem is a binary classification |\n",
    "| f0 | 0.0 or 1.0 | Binary. Could be turned into a categorical feature |\n",
    "| f1 | gL, Rj, In, ... | 173 unique two letter pairs, could be country codes or something similar |\n",
    "| f2 | a, b, ..., f | letters a-f |\n",
    "| f3 | 1.0, 2.0 or 3.0 | ordinal of some kind, should not be converted to categorical |\n",
    "| f4 | A or B | mostly As (=88%) |\n",
    "| f5 | -1, ..., 11 | weird distribution, many null values |\n",
    "| f6 | 0 or 10 | Binary - could be turned into a categorical feature |\n",
    "| f7 | 1, 2, ..., 6 | Ordinal of some kind, should not be converted to categorical |\n",
    "| f8 | '96ae67d3e', 'a5adff44e' | Looks like hexadecimal, might be a hash of some kind |\n",
    "| f9 | red, white, black, green, yellow | five colors |\n",
    "| f10 | A, B, ..., Z | Could be converted to integers to get ordinal property |\n",
    "| f11 | 139681, 140242, 142174 |  |\n",
    "| f12 | '1c756c04a', '5d1ac7760' | Looks like hexadecimal, might be a hash of some kind |\n",
    "| f13 | a, b, ..., o | Could be converted to integers to get ordinal property |\n",
    "| f14 | '168e51823', '558613041' | Looks like hexadecimal, might be a hash of some kind |\n",
    "| f15 | '7861df0a8', '1d88b0a79' | Looks like hexadecimal, might be a hash of some kind |\n",
    "| f16 | 0, 10, ..., 120 | Ordinal of some kind, should not be converted to categorical |\n",
    "| f17 | 858314945, 616742978 |  |\n",
    "| f18 | A, B, ..., F | Could be converted to integers to get ordinal property |\n",
    "| f19 | 0, 1, ..., 6 | Ordinal of some kind, should not be converted to categorical |\n",
    "| f20 | 00, 01, 10 or 11 | Looks like a binary number. Could be converted to 0, 1, 2 and 3 |\n",
    "| f21 | 0, 10, ..., 70 | Ordinal of some kind, should not be converted to categorical |\n",
    "| f22 | R, G or B | Could it be a coincidence that it is RGB? |\n",
    "| f23 | '328b0cf4e', '0c67fcbbd' | Looks like hexadecimal, might be a hash of some kind |\n",
    "| f24 | 834041366, 686021137 |  |\n",
    "| f25 | T or F | Binary - (T)rue or (F)alse |\n",
    "| f26 | N or S | Binary - (N)orth or (S)outh? |\n",
    "| f27 | 0, 1, ..., 4 | Ordinal of some kind, should not be converted to categorical |\n",
    "| f28 | 141855, 139805 |  |\n"
   ],
   "metadata": {
    "editable": false
   }
  },
  {
   "cell_type": "markdown",
   "source": [
    "The features labeled:\n",
    "- f8 \n",
    "- f12 \n",
    "- f14 \n",
    "- f15 \n",
    "- f23\n",
    "\n",
    "All seem to be hexadecimal. These might just be an id of sorts, or they can be the hex representation of a number.  \n",
    "An idea can be to covert these into decimal and see if they are important somehow.\n",
    "\n",
    "Or check if the number of categories increases significantly when we add the test data "
   ],
   "metadata": {
    "editable": false
   }
  },
  {
   "cell_type": "code",
   "execution_count": 139,
   "source": [
    "# # Convert hexadecimal features to decimal\n",
    "# radix = 16\n",
    "# hexadecimal_features = ['f8', 'f12', 'f14', 'f15', 'f23']\n",
    "# \n",
    "# X_transformed = training_data.copy()\n",
    "# X_transformed[hexadecimal_features] = X_transformed[hexadecimal_features].fillna('-1').transform(lambda x: x.astype(str).map(lambda x: int(x, base=radix)))\n",
    "# X_transformed = X_transformed.replace(-1, float('nan'))  # keep nan for later processing step\n",
    "\n",
    "# print(X[hexadecimal_features].nunique())\n",
    "# X[hexadecimal_features].hist(bins=2203, figsize=(25, 15), layout=(2, 7))\n",
    "\n",
    "# ------------------------------------------------------------------------\n",
    "\n",
    "# Check if the number of categories increases when we add the test data \n",
    "hexadecimal_features = ['f8', 'f12', 'f14', 'f15', 'f23']\n",
    "merged_datasets = pd.concat([training_data, X_test])[hexadecimal_features]\n",
    "\n",
    "merged_statistics = pd.DataFrame(\n",
    "    {\n",
    "        '#categories before merge': training_data.nunique(), \n",
    "        '#categories after merge': merged_datasets.nunique(), \n",
    "    }, \n",
    "    index=merged_datasets.columns,\n",
    ")\n",
    "\n",
    "print(merged_statistics)"
   ],
   "outputs": [
    {
     "output_type": "stream",
     "name": "stdout",
     "text": [
      "     #categories before merge  #categories after merge\n",
      "f8                       2177                     2203\n",
      "f12                       222                      222\n",
      "f14                      1204                     1211\n",
      "f15                       222                      222\n",
      "f23                      1495                     1514\n"
     ]
    }
   ],
   "metadata": {
    "editable": false,
    "execution": {
     "iopub.execute_input": "2021-10-11T09:48:45.790673Z",
     "iopub.status.busy": "2021-10-11T09:48:45.790425Z",
     "iopub.status.idle": "2021-10-11T09:48:46.051433Z",
     "shell.execute_reply": "2021-10-11T09:48:46.050474Z",
     "shell.execute_reply.started": "2021-10-11T09:48:45.790644Z"
    }
   }
  },
  {
   "cell_type": "markdown",
   "source": [
    "Note: \n",
    "\n",
    "It is peculiar that f12 and f15 have the same amount of categories =222\n",
    "\n",
    "What could this number represent? \n"
   ],
   "metadata": {}
  },
  {
   "cell_type": "markdown",
   "source": [
    "## Data cleaning\n",
    "Data cleaning consists of the following steps\n",
    "- Removal of unwanted observations\n",
    "- Fixing structural errors\n",
    "- Managing unwanted outliers\n",
    "- Handeling missing data"
   ],
   "metadata": {
    "editable": false
   }
  },
  {
   "cell_type": "code",
   "execution_count": 140,
   "source": [
    "# Duplicate detection\n",
    "training_data.duplicated().sum(axis = 0)"
   ],
   "outputs": [
    {
     "output_type": "execute_result",
     "data": {
      "text/plain": [
       "0"
      ]
     },
     "metadata": {},
     "execution_count": 140
    }
   ],
   "metadata": {
    "editable": false,
    "execution": {
     "iopub.execute_input": "2021-10-11T09:48:46.055191Z",
     "iopub.status.busy": "2021-10-11T09:48:46.054966Z",
     "iopub.status.idle": "2021-10-11T09:48:46.175202Z",
     "shell.execute_reply": "2021-10-11T09:48:46.174454Z",
     "shell.execute_reply.started": "2021-10-11T09:48:46.055167Z"
    }
   }
  },
  {
   "cell_type": "markdown",
   "source": [
    "### Outlier detection and removal"
   ],
   "metadata": {}
  },
  {
   "cell_type": "code",
   "execution_count": 141,
   "source": [
    "# Outliers\n",
    "\n",
    "plt.close()\n",
    "# numeric features with many values:\n",
    "interval_features = ['f11', 'f17', 'f24', 'f28']\n",
    "fig, axes = plt.subplots(2, len(interval_features))\n",
    "plt.figure(figsize=(20, 15))\n",
    "\n",
    "for i, feature in enumerate(interval_features):\n",
    "    ax = sns.boxplot(x=training_data[feature], ax=axes[0][i])\n",
    "    ax.set_xlabel('')\n",
    "    ax.set_ylabel(feature)\n",
    "\n",
    "for i, feature in enumerate(interval_features):\n",
    "    ax = sns.histplot(training_data[feature], ax=axes[1][i])\n",
    "    ax.set_xlabel(feature)\n",
    "    ax.set_ylabel('')\n",
    "\n",
    "fig.tight_layout()\n",
    "plt.show()"
   ],
   "outputs": [
    {
     "output_type": "display_data",
     "data": {
      "image/png": "[encoded data removed]",
      "text/plain": [
       "<Figure size 1440x720 with 8 Axes>"
      ]
     },
     "metadata": {
      "needs_background": "light"
     }
    },
    {
     "output_type": "display_data",
     "data": {
      "text/plain": [
       "<Figure size 1440x1080 with 0 Axes>"
      ]
     },
     "metadata": {}
    }
   ],
   "metadata": {
    "editable": false,
    "execution": {
     "iopub.execute_input": "2021-10-11T09:48:46.176677Z",
     "iopub.status.busy": "2021-10-11T09:48:46.176445Z",
     "iopub.status.idle": "2021-10-11T09:48:48.464610Z",
     "shell.execute_reply": "2021-10-11T09:48:48.463701Z",
     "shell.execute_reply.started": "2021-10-11T09:48:46.176653Z"
    }
   }
  },
  {
   "cell_type": "code",
   "execution_count": 142,
   "source": [
    "# Outlier removal by interquartile range (IQR) method\n",
    "\n",
    "Q1 = training_data[interval_features].quantile(0.25)\n",
    "Q3 = training_data[interval_features].quantile(0.75)\n",
    "IQR = Q3 - Q1\n",
    "\n",
    "# Only remove the \"right tail\" from the features to keep the -1 value \n",
    "training_data = training_data[~(training_data > (Q3 + 1.5 * IQR)).any(axis=1)]\n",
    "training_data.shape\n"
   ],
   "outputs": [
    {
     "output_type": "stream",
     "name": "stderr",
     "text": [
      "/tmp/ipykernel_4545/3869438494.py:8: FutureWarning: Automatic reindexing on DataFrame vs Series comparisons is deprecated and will raise ValueError in a future version.  Do `left, right = left.align(right, axis=1, copy=False)` before e.g. `left == right`\n",
      "  training_data = training_data[~(training_data > (Q3 + 1.5 * IQR)).any(axis=1)]\n"
     ]
    },
    {
     "output_type": "execute_result",
     "data": {
      "text/plain": [
       "(47297, 30)"
      ]
     },
     "metadata": {},
     "execution_count": 142
    }
   ],
   "metadata": {
    "execution": {
     "iopub.execute_input": "2021-10-11T09:48:48.466659Z",
     "iopub.status.busy": "2021-10-11T09:48:48.466116Z",
     "iopub.status.idle": "2021-10-11T09:48:48.795452Z",
     "shell.execute_reply": "2021-10-11T09:48:48.794866Z",
     "shell.execute_reply.started": "2021-10-11T09:48:48.466616Z"
    }
   }
  },
  {
   "cell_type": "markdown",
   "source": [
    "### Dealing with missing values\n",
    "XBoost and CatBoost handles missing data differently. This needs to be taken into account before training.\n",
    "- XGBoost: missing values should be zero\n",
    "- CatBoost: missing values should be way off the distribution, like -999"
   ],
   "metadata": {
    "editable": false
   }
  },
  {
   "cell_type": "code",
   "execution_count": 143,
   "source": [
    "# Impute missing values\n",
    "\n",
    "# fill_value = 0  # Used for XGBoost\n",
    "fill_value = -999  # Used for CatBoost\n",
    "\n",
    "training_data.fillna(fill_value, inplace=True)\n",
    "X_test.fillna(fill_value, inplace=True)\n",
    "\n",
    "missing_values = pd.DataFrame(\n",
    "    {\n",
    "        '#nan_train': training_data.isnull().sum(axis = 0),\n",
    "        '#nan_test': training_data.isnull().sum(axis = 0),\n",
    "    }, \n",
    "    index=training_data.columns,\n",
    ")\n",
    "\n",
    "# Check if there are any missing values left\n",
    "print(missing_values)"
   ],
   "outputs": [
    {
     "output_type": "stream",
     "name": "stdout",
     "text": [
      "        #nan_train  #nan_test\n",
      "target           0          0\n",
      "f0               0          0\n",
      "f1               0          0\n",
      "f2               0          0\n",
      "f3               0          0\n",
      "f4               0          0\n",
      "f5               0          0\n",
      "f6               0          0\n",
      "f7               0          0\n",
      "f8               0          0\n",
      "f9               0          0\n",
      "f10              0          0\n",
      "f11              0          0\n",
      "f12              0          0\n",
      "f13              0          0\n",
      "f14              0          0\n",
      "f15              0          0\n",
      "f16              0          0\n",
      "f17              0          0\n",
      "f18              0          0\n",
      "f19              0          0\n",
      "f20              0          0\n",
      "f21              0          0\n",
      "f22              0          0\n",
      "f23              0          0\n",
      "f24              0          0\n",
      "f25              0          0\n",
      "f26              0          0\n",
      "f27              0          0\n",
      "f28              0          0\n"
     ]
    },
    {
     "output_type": "stream",
     "name": "stderr",
     "text": [
      "/home/nicklas/repos/artificial-intelligence/tdt05/venv/lib/python3.8/site-packages/pandas/core/frame.py:5176: SettingWithCopyWarning: \n",
      "A value is trying to be set on a copy of a slice from a DataFrame\n",
      "\n",
      "See the caveats in the documentation: https://pandas.pydata.org/pandas-docs/stable/user_guide/indexing.html#returning-a-view-versus-a-copy\n",
      "  return super().fillna(\n"
     ]
    }
   ],
   "metadata": {
    "editable": false,
    "execution": {
     "iopub.execute_input": "2021-10-11T09:48:48.797415Z",
     "iopub.status.busy": "2021-10-11T09:48:48.796506Z",
     "iopub.status.idle": "2021-10-11T09:48:49.165752Z",
     "shell.execute_reply": "2021-10-11T09:48:49.164930Z",
     "shell.execute_reply.started": "2021-10-11T09:48:48.797383Z"
    }
   }
  },
  {
   "cell_type": "code",
   "execution_count": 144,
   "source": [
    "# Partition the data\n",
    "X = training_data.drop(columns=['target']).copy()\n",
    "y = training_data[['target']].copy()"
   ],
   "outputs": [],
   "metadata": {
    "editable": false,
    "execution": {
     "iopub.execute_input": "2021-10-11T09:48:49.167792Z",
     "iopub.status.busy": "2021-10-11T09:48:49.167426Z",
     "iopub.status.idle": "2021-10-11T09:48:49.205377Z",
     "shell.execute_reply": "2021-10-11T09:48:49.204453Z",
     "shell.execute_reply.started": "2021-10-11T09:48:49.167752Z"
    }
   }
  },
  {
   "cell_type": "markdown",
   "source": [
    "## CatBoost"
   ],
   "metadata": {
    "editable": false
   }
  },
  {
   "cell_type": "code",
   "execution_count": 145,
   "source": [
    "# # CatBoost specific preprocessing\n",
    "# categorical_numerical_features = [0, 1, 2, 4, 6, 8, 9, 10, 12, 13, 14, 15, 18, 20, 22, 23, 25, 26]\n",
    "# X[categorical_numerical_features] = X[categorical_numerical_features].astype(str)\n",
    "# X_test[categorical_numerical_features] = X_test[categorical_numerical_features].astype(str)\n",
    "\n",
    "# # f0, f5, f27 have low feature importance and can be dropped for more generality\n",
    "# #X.drop([\"f6\", \"f7\", \"f12\", \"f19\", \"f15\"], axis=1, inplace=True)\n",
    "# #X_test.drop([\"f6\", \"f7\", \"f12\", \"f19\", \"f15\"], axis=1, inplace=True)"
   ],
   "outputs": [],
   "metadata": {
    "execution": {
     "iopub.execute_input": "2021-10-11T09:48:49.206910Z",
     "iopub.status.busy": "2021-10-11T09:48:49.206683Z",
     "iopub.status.idle": "2021-10-11T09:48:49.449752Z",
     "shell.execute_reply": "2021-10-11T09:48:49.448834Z",
     "shell.execute_reply.started": "2021-10-11T09:48:49.206886Z"
    }
   }
  },
  {
   "cell_type": "markdown",
   "source": [],
   "metadata": {}
  },
  {
   "cell_type": "code",
   "execution_count": 146,
   "source": [
    "# Utility function for computing the new indices after dropping certain columns\n",
    "def indices_after_droping(indices, dropped_columns):\n",
    "    updated_indices = list(indices)\n",
    "    dropped_indices = [int(column.replace('f', '')) for column in dropped_columns]\n",
    "    \n",
    "    for i, old_index in enumerate(indices):\n",
    "        for column_index in dropped_indices:\n",
    "            if old_index >= column_index:\n",
    "                updated_indices[i] -= 1\n",
    "\n",
    "    return updated_indices"
   ],
   "outputs": [],
   "metadata": {
    "execution": {
     "iopub.execute_input": "2021-10-11T09:48:49.451212Z",
     "iopub.status.busy": "2021-10-11T09:48:49.450927Z",
     "iopub.status.idle": "2021-10-11T09:48:49.457259Z",
     "shell.execute_reply": "2021-10-11T09:48:49.456346Z",
     "shell.execute_reply.started": "2021-10-11T09:48:49.451184Z"
    }
   }
  },
  {
   "cell_type": "code",
   "execution_count": 147,
   "source": [
    "from catboost import CatBoostClassifier, Pool, metrics, cv\n",
    "from sklearn.model_selection import train_test_split\n",
    "from sklearn.metrics import accuracy_score\n",
    "\n",
    "categorical_features_indices = [1, 9, 22]  \n",
    "\n",
    "X_train, X_validation, y_train, y_validation = train_test_split(X, y, train_size=0.75, random_state=42)\n",
    "\n",
    "model = CatBoostClassifier(\n",
    "    custom_loss=[metrics.Accuracy()],\n",
    "    random_seed=42,\n",
    "    logging_level='Silent'\n",
    ")\n",
    "\n",
    "model.fit(\n",
    "    X, y,\n",
    "    cat_features=categorical_features_indices,\n",
    "    # eval_set=(X_validation, y_validation),\n",
    "    # plot=True\n",
    ")\n",
    "\n",
    "# cv_params = model.get_params()\n",
    "# cv_params.update({\n",
    "#     'loss_function': metrics.Logloss()\n",
    "# })\n",
    "\n",
    "# cv_data = cv(\n",
    "#     Pool(X, y, cat_features=categorical_features_indices),\n",
    "#     cv_params,\n",
    "#     plot=True\n",
    "# )"
   ],
   "outputs": [
    {
     "output_type": "stream",
     "name": "stderr",
     "text": [
      "Custom logger is already specified. Specify more than one logger at same time is not thread safe."
     ]
    },
    {
     "output_type": "execute_result",
     "data": {
      "text/plain": [
       "<catboost.core.CatBoostClassifier at 0x7f6b7e9018e0>"
      ]
     },
     "metadata": {},
     "execution_count": 147
    }
   ],
   "metadata": {
    "execution": {
     "iopub.execute_input": "2021-10-11T09:48:49.458727Z",
     "iopub.status.busy": "2021-10-11T09:48:49.458483Z"
    }
   }
  },
  {
   "cell_type": "code",
   "execution_count": 148,
   "source": [
    "print(model.get_best_score()['learn'])\n",
    "feature_importance = pd.DataFrame({'feature_importance': model.get_feature_importance()}, index=X.columns)\n",
    "feature_importance.sort_values(by='feature_importance', ascending=False, inplace=True)\n",
    "sns.barplot(data=feature_importance, x='feature_importance', y=feature_importance.index)"
   ],
   "outputs": [
    {
     "output_type": "stream",
     "name": "stdout",
     "text": [
      "{'Accuracy': 0.8478339006702328, 'Logloss': 0.34787289815981676}\n"
     ]
    },
    {
     "output_type": "execute_result",
     "data": {
      "text/plain": [
       "<AxesSubplot:xlabel='feature_importance'>"
      ]
     },
     "metadata": {},
     "execution_count": 148
    },
    {
     "output_type": "display_data",
     "data": {
      "image/png": "[encoded data removed]",
      "text/plain": [
       "<Figure size 1440x720 with 1 Axes>"
      ]
     },
     "metadata": {
      "needs_background": "light"
     }
    }
   ],
   "metadata": {}
  },
  {
   "cell_type": "markdown",
   "source": [
    "## Make predictions\n",
    "\n",
    "Make predictions from `X_test` and save to file."
   ],
   "metadata": {
    "editable": false
   }
  },
  {
   "cell_type": "code",
   "execution_count": 149,
   "source": [
    "y_pred = model.predict(X_test, prediction_type='Probability')\n",
    "predictions = pd.DataFrame({'id': X_test.index, 'target': y_pred[:,1]})\n",
    "\n",
    "predictions.to_csv('./prediction_2.txt', index=False)"
   ],
   "outputs": [],
   "metadata": {}
  },
  {
   "cell_type": "markdown",
   "source": [
    "## One-hot encoding\n",
    "The features labeled:\n",
    "- f0 (Boolean)\n",
    "- f1\n",
    "- f2\n",
    "- f4\n",
    "- f9\n",
    "- f10\n",
    "- f13\n",
    "- f18\n",
    "- f22\n",
    "- f25 (Boolean)\n",
    "- f26 (Boolean)\n",
    "\n",
    "Toghether with the hex features discussed above:\n",
    "- f8 \n",
    "- f12 \n",
    "- f14 \n",
    "- f15 \n",
    "- f23\n",
    "\n",
    "\n",
    "All seem to be categorical and should therefore be converted to one-hot encoding (depending on the learning algorithm)."
   ],
   "metadata": {
    "editable": false
   }
  },
  {
   "cell_type": "code",
   "execution_count": 150,
   "source": [
    "# One-hot encode categorical features\n",
    "categorical_features = ['f0', 'f1', 'f2', 'f4', 'f8', 'f9', 'f10', 'f12', 'f13', 'f14', 'f15', 'f18', 'f22', 'f23', 'f25', 'f26']\n",
    "\n",
    "X_encoded = pd.get_dummies(X, columns=categorical_features)\n",
    "X_encoded.head()"
   ],
   "outputs": [
    {
     "output_type": "execute_result",
     "data": {
      "text/html": [
       "<div>\n",
       "<style scoped>\n",
       "    .dataframe tbody tr th:only-of-type {\n",
       "        vertical-align: middle;\n",
       "    }\n",
       "\n",
       "    .dataframe tbody tr th {\n",
       "        vertical-align: top;\n",
       "    }\n",
       "\n",
       "    .dataframe thead th {\n",
       "        text-align: right;\n",
       "    }\n",
       "</style>\n",
       "<table border=\"1\" class=\"dataframe\">\n",
       "  <thead>\n",
       "    <tr style=\"text-align: right;\">\n",
       "      <th></th>\n",
       "      <th>f3</th>\n",
       "      <th>f5</th>\n",
       "      <th>f6</th>\n",
       "      <th>f7</th>\n",
       "      <th>f11</th>\n",
       "      <th>f16</th>\n",
       "      <th>f17</th>\n",
       "      <th>f19</th>\n",
       "      <th>f20</th>\n",
       "      <th>f21</th>\n",
       "      <th>...</th>\n",
       "      <th>f23_68566024808.0</th>\n",
       "      <th>f23_68599095642.0</th>\n",
       "      <th>f23_68693218498.0</th>\n",
       "      <th>f23_68703136399.0</th>\n",
       "      <th>f25_-999.0</th>\n",
       "      <th>f25_0.0</th>\n",
       "      <th>f25_1.0</th>\n",
       "      <th>f26_-999.0</th>\n",
       "      <th>f26_0.0</th>\n",
       "      <th>f26_1.0</th>\n",
       "    </tr>\n",
       "    <tr>\n",
       "      <th>id</th>\n",
       "      <th></th>\n",
       "      <th></th>\n",
       "      <th></th>\n",
       "      <th></th>\n",
       "      <th></th>\n",
       "      <th></th>\n",
       "      <th></th>\n",
       "      <th></th>\n",
       "      <th></th>\n",
       "      <th></th>\n",
       "      <th></th>\n",
       "      <th></th>\n",
       "      <th></th>\n",
       "      <th></th>\n",
       "      <th></th>\n",
       "      <th></th>\n",
       "      <th></th>\n",
       "      <th></th>\n",
       "      <th></th>\n",
       "      <th></th>\n",
       "      <th></th>\n",
       "    </tr>\n",
       "  </thead>\n",
       "  <tbody>\n",
       "    <tr>\n",
       "      <th>0</th>\n",
       "      <td>3.0</td>\n",
       "      <td>-999.0</td>\n",
       "      <td>0.0</td>\n",
       "      <td>6.0</td>\n",
       "      <td>13.9681</td>\n",
       "      <td>2.0</td>\n",
       "      <td>0.858315</td>\n",
       "      <td>0.5</td>\n",
       "      <td>0.0</td>\n",
       "      <td>3.0</td>\n",
       "      <td>...</td>\n",
       "      <td>0</td>\n",
       "      <td>0</td>\n",
       "      <td>0</td>\n",
       "      <td>0</td>\n",
       "      <td>0</td>\n",
       "      <td>1</td>\n",
       "      <td>0</td>\n",
       "      <td>0</td>\n",
       "      <td>0</td>\n",
       "      <td>1</td>\n",
       "    </tr>\n",
       "    <tr>\n",
       "      <th>1</th>\n",
       "      <td>1.0</td>\n",
       "      <td>7.0</td>\n",
       "      <td>1.0</td>\n",
       "      <td>4.0</td>\n",
       "      <td>14.0242</td>\n",
       "      <td>-999.0</td>\n",
       "      <td>0.616743</td>\n",
       "      <td>0.4</td>\n",
       "      <td>0.0</td>\n",
       "      <td>1.0</td>\n",
       "      <td>...</td>\n",
       "      <td>0</td>\n",
       "      <td>0</td>\n",
       "      <td>0</td>\n",
       "      <td>0</td>\n",
       "      <td>0</td>\n",
       "      <td>1</td>\n",
       "      <td>0</td>\n",
       "      <td>0</td>\n",
       "      <td>0</td>\n",
       "      <td>1</td>\n",
       "    </tr>\n",
       "    <tr>\n",
       "      <th>2</th>\n",
       "      <td>1.0</td>\n",
       "      <td>10.0</td>\n",
       "      <td>1.0</td>\n",
       "      <td>6.0</td>\n",
       "      <td>14.2174</td>\n",
       "      <td>3.0</td>\n",
       "      <td>0.711389</td>\n",
       "      <td>0.5</td>\n",
       "      <td>1.0</td>\n",
       "      <td>3.0</td>\n",
       "      <td>...</td>\n",
       "      <td>0</td>\n",
       "      <td>0</td>\n",
       "      <td>0</td>\n",
       "      <td>0</td>\n",
       "      <td>0</td>\n",
       "      <td>1</td>\n",
       "      <td>0</td>\n",
       "      <td>0</td>\n",
       "      <td>0</td>\n",
       "      <td>1</td>\n",
       "    </tr>\n",
       "    <tr>\n",
       "      <th>3</th>\n",
       "      <td>3.0</td>\n",
       "      <td>7.0</td>\n",
       "      <td>1.0</td>\n",
       "      <td>1.0</td>\n",
       "      <td>13.8536</td>\n",
       "      <td>5.0</td>\n",
       "      <td>-999.000000</td>\n",
       "      <td>0.6</td>\n",
       "      <td>1.0</td>\n",
       "      <td>1.0</td>\n",
       "      <td>...</td>\n",
       "      <td>0</td>\n",
       "      <td>0</td>\n",
       "      <td>0</td>\n",
       "      <td>0</td>\n",
       "      <td>0</td>\n",
       "      <td>1</td>\n",
       "      <td>0</td>\n",
       "      <td>0</td>\n",
       "      <td>0</td>\n",
       "      <td>1</td>\n",
       "    </tr>\n",
       "    <tr>\n",
       "      <th>4</th>\n",
       "      <td>3.0</td>\n",
       "      <td>7.0</td>\n",
       "      <td>0.0</td>\n",
       "      <td>6.0</td>\n",
       "      <td>14.2347</td>\n",
       "      <td>2.0</td>\n",
       "      <td>0.572781</td>\n",
       "      <td>0.5</td>\n",
       "      <td>0.0</td>\n",
       "      <td>1.0</td>\n",
       "      <td>...</td>\n",
       "      <td>0</td>\n",
       "      <td>0</td>\n",
       "      <td>0</td>\n",
       "      <td>0</td>\n",
       "      <td>0</td>\n",
       "      <td>1</td>\n",
       "      <td>0</td>\n",
       "      <td>0</td>\n",
       "      <td>0</td>\n",
       "      <td>1</td>\n",
       "    </tr>\n",
       "  </tbody>\n",
       "</table>\n",
       "<p>5 rows × 5603 columns</p>\n",
       "</div>"
      ],
      "text/plain": [
       "     f3     f5   f6   f7      f11    f16         f17  f19  f20  f21  ...  \\\n",
       "id                                                                   ...   \n",
       "0   3.0 -999.0  0.0  6.0  13.9681    2.0    0.858315  0.5  0.0  3.0  ...   \n",
       "1   1.0    7.0  1.0  4.0  14.0242 -999.0    0.616743  0.4  0.0  1.0  ...   \n",
       "2   1.0   10.0  1.0  6.0  14.2174    3.0    0.711389  0.5  1.0  3.0  ...   \n",
       "3   3.0    7.0  1.0  1.0  13.8536    5.0 -999.000000  0.6  1.0  1.0  ...   \n",
       "4   3.0    7.0  0.0  6.0  14.2347    2.0    0.572781  0.5  0.0  1.0  ...   \n",
       "\n",
       "    f23_68566024808.0  f23_68599095642.0  f23_68693218498.0  \\\n",
       "id                                                            \n",
       "0                   0                  0                  0   \n",
       "1                   0                  0                  0   \n",
       "2                   0                  0                  0   \n",
       "3                   0                  0                  0   \n",
       "4                   0                  0                  0   \n",
       "\n",
       "    f23_68703136399.0  f25_-999.0  f25_0.0  f25_1.0  f26_-999.0  f26_0.0  \\\n",
       "id                                                                         \n",
       "0                   0           0        1        0           0        0   \n",
       "1                   0           0        1        0           0        0   \n",
       "2                   0           0        1        0           0        0   \n",
       "3                   0           0        1        0           0        0   \n",
       "4                   0           0        1        0           0        0   \n",
       "\n",
       "    f26_1.0  \n",
       "id           \n",
       "0         1  \n",
       "1         1  \n",
       "2         1  \n",
       "3         1  \n",
       "4         1  \n",
       "\n",
       "[5 rows x 5603 columns]"
      ]
     },
     "metadata": {},
     "execution_count": 150
    }
   ],
   "metadata": {
    "editable": false
   }
  },
  {
   "cell_type": "code",
   "execution_count": 151,
   "source": [
    "# plt.figure(figsize=(32, 12))\n",
    "# sns.heatmap(training_data.corr(), annot=True, cmap='viridis')"
   ],
   "outputs": [],
   "metadata": {
    "editable": false
   }
  }
 ],
 "metadata": {
  "interpreter": {
   "hash": "b0f343846f88a2d9ffe0ec0c0b49eb260a2039ef755c0068a1925846f885ec98"
  },
  "kernelspec": {
   "name": "python3",
   "display_name": "Python 3.8.6 64-bit ('venv': venv)"
  },
  "language_info": {
   "codemirror_mode": {
    "name": "ipython",
    "version": 3
   },
   "file_extension": ".py",
   "mimetype": "text/x-python",
   "name": "python",
   "nbconvert_exporter": "python",
   "pygments_lexer": "ipython3",
   "version": "3.8.6"
  }
 },
 "nbformat": 4,
 "nbformat_minor": 4
}