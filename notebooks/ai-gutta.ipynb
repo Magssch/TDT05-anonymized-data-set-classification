{
 "cells": [
  {
   "cell_type": "markdown",
   "metadata": {
    "editable": false
   },
   "source": [
    "# Data exploration"
   ]
  },
  {
   "cell_type": "markdown",
   "metadata": {
    "editable": false
   },
   "source": [
    "## Table of contents\n",
    "0. Table of contents\n",
    "1. TODOs\n",
    "2. Imports and loading the data \n",
    "3. Exploratory Data Analysis (EDA)\n",
    "4. Data cleaning\n",
    "5. Training\n",
    "6. Saving"
   ]
  },
  {
   "cell_type": "markdown",
   "metadata": {
    "editable": false
   },
   "source": [
    "## TODOs\n",
    "\n",
    "* Prøve å konvertere null-verdier til 0, og å ha null som en egen kategori\n",
    "* Teste med både OHE og annen type category encoding \n",
    "* Prøve ulike 'predictors'\n",
    "* Tune den beste \n",
    "* Tolke resultatene\n",
    "* Plotte alle features med rikitg plot i starten"
   ]
  },
  {
   "cell_type": "markdown",
   "metadata": {},
   "source": [
    "# Imports and loading the data"
   ]
  },
  {
   "cell_type": "code",
   "execution_count": 74,
   "metadata": {
    "execution": {
     "iopub.execute_input": "2021-10-11T09:48:35.033793Z",
     "iopub.status.busy": "2021-10-11T09:48:35.032907Z",
     "iopub.status.idle": "2021-10-11T09:48:35.040299Z",
     "shell.execute_reply": "2021-10-11T09:48:35.039452Z",
     "shell.execute_reply.started": "2021-10-11T09:48:35.033754Z"
    }
   },
   "outputs": [
    {
     "name": "stdout",
     "output_type": "stream",
     "text": [
      "Tensorflow version: 2.6.0\n"
     ]
    }
   ],
   "source": [
    "# Imports\n",
    "import tensorflow as tf\n",
    "import pandas as pd\n",
    "import numpy as np\n",
    "import seaborn as sns\n",
    "import matplotlib.pyplot as plt\n",
    "from matplotlib import rcParams\n",
    "\n",
    "print('Tensorflow version:', tf.__version__)\n",
    "rcParams['figure.figsize'] = 20,10"
   ]
  },
  {
   "cell_type": "code",
   "execution_count": 75,
   "metadata": {},
   "outputs": [],
   "source": [
    "# Configuration variables\n",
    "should_convert = {\n",
    "    'hexadecimal': False,\n",
    "    'alphabetic': True,\n",
    "    'binary': True,\n",
    "    'boolean': False,\n",
    "}"
   ]
  },
  {
   "cell_type": "code",
   "execution_count": 76,
   "metadata": {
    "editable": false,
    "execution": {
     "iopub.execute_input": "2021-10-11T09:48:35.209167Z",
     "iopub.status.busy": "2021-10-11T09:48:35.208320Z",
     "iopub.status.idle": "2021-10-11T09:48:35.796182Z",
     "shell.execute_reply": "2021-10-11T09:48:35.795231Z",
     "shell.execute_reply.started": "2021-10-11T09:48:35.209116Z"
    }
   },
   "outputs": [
    {
     "name": "stdout",
     "output_type": "stream",
     "text": [
      "Training shape: (50000, 30)\n",
      "Test shape: (50000, 29)\n",
      "          dtype  categories   #nan\n",
      "target    int64           2      0\n",
      "f0      float64           2   1459\n",
      "f1       object         190   1487\n",
      "f2       object           6   1439\n",
      "f3      float64           3   1488\n",
      "f4       object           2   1498\n",
      "f5      float64          13  11617\n",
      "f6      float64           2   1490\n",
      "f7      float64           6   1525\n",
      "f8       object        2177   1490\n",
      "f9       object           5   1489\n",
      "f10      object          26   1501\n",
      "f11     float64        7633    145\n",
      "f12      object         222   1541\n",
      "f13      object          15   1447\n",
      "f14      object        1204   1451\n",
      "f15      object         222   1477\n",
      "f16     float64          12   1460\n",
      "f17     float64       19209   9762\n",
      "f18      object           6   1556\n",
      "f19     float64           6   1437\n",
      "f20     float64           4   1464\n",
      "f21     float64           7   1510\n",
      "f22      object           3   1513\n",
      "f23      object        1495   1516\n",
      "f24     float64        4148   2696\n",
      "f25      object           2   1537\n",
      "f26      object           2   1474\n",
      "f27     float64           4   1464\n",
      "f28     float64        8060  13112\n"
     ]
    },
    {
     "data": {
      "text/html": [
       "<div>\n",
       "<style scoped>\n",
       "    .dataframe tbody tr th:only-of-type {\n",
       "        vertical-align: middle;\n",
       "    }\n",
       "\n",
       "    .dataframe tbody tr th {\n",
       "        vertical-align: top;\n",
       "    }\n",
       "\n",
       "    .dataframe thead th {\n",
       "        text-align: right;\n",
       "    }\n",
       "</style>\n",
       "<table border=\"1\" class=\"dataframe\">\n",
       "  <thead>\n",
       "    <tr style=\"text-align: right;\">\n",
       "      <th></th>\n",
       "      <th>target</th>\n",
       "      <th>f0</th>\n",
       "      <th>f1</th>\n",
       "      <th>f2</th>\n",
       "      <th>f3</th>\n",
       "      <th>f4</th>\n",
       "      <th>f5</th>\n",
       "      <th>f6</th>\n",
       "      <th>f7</th>\n",
       "      <th>f8</th>\n",
       "      <th>...</th>\n",
       "      <th>f19</th>\n",
       "      <th>f20</th>\n",
       "      <th>f21</th>\n",
       "      <th>f22</th>\n",
       "      <th>f23</th>\n",
       "      <th>f24</th>\n",
       "      <th>f25</th>\n",
       "      <th>f26</th>\n",
       "      <th>f27</th>\n",
       "      <th>f28</th>\n",
       "    </tr>\n",
       "    <tr>\n",
       "      <th>id</th>\n",
       "      <th></th>\n",
       "      <th></th>\n",
       "      <th></th>\n",
       "      <th></th>\n",
       "      <th></th>\n",
       "      <th></th>\n",
       "      <th></th>\n",
       "      <th></th>\n",
       "      <th></th>\n",
       "      <th></th>\n",
       "      <th></th>\n",
       "      <th></th>\n",
       "      <th></th>\n",
       "      <th></th>\n",
       "      <th></th>\n",
       "      <th></th>\n",
       "      <th></th>\n",
       "      <th></th>\n",
       "      <th></th>\n",
       "      <th></th>\n",
       "      <th></th>\n",
       "    </tr>\n",
       "  </thead>\n",
       "  <tbody>\n",
       "    <tr>\n",
       "      <th>0</th>\n",
       "      <td>0</td>\n",
       "      <td>1.0</td>\n",
       "      <td>gL</td>\n",
       "      <td>e</td>\n",
       "      <td>3.0</td>\n",
       "      <td>A</td>\n",
       "      <td>NaN</td>\n",
       "      <td>0.0</td>\n",
       "      <td>6.0</td>\n",
       "      <td>96ae67d3e</td>\n",
       "      <td>...</td>\n",
       "      <td>0.5</td>\n",
       "      <td>0.0</td>\n",
       "      <td>3.0</td>\n",
       "      <td>R</td>\n",
       "      <td>328b0cf4e</td>\n",
       "      <td>0.834041</td>\n",
       "      <td>T</td>\n",
       "      <td>N</td>\n",
       "      <td>1.0</td>\n",
       "      <td>14.2364</td>\n",
       "    </tr>\n",
       "    <tr>\n",
       "      <th>1</th>\n",
       "      <td>0</td>\n",
       "      <td>0.0</td>\n",
       "      <td>Rj</td>\n",
       "      <td>c</td>\n",
       "      <td>1.0</td>\n",
       "      <td>A</td>\n",
       "      <td>7.0</td>\n",
       "      <td>1.0</td>\n",
       "      <td>4.0</td>\n",
       "      <td>9fcf422f2</td>\n",
       "      <td>...</td>\n",
       "      <td>0.4</td>\n",
       "      <td>0.0</td>\n",
       "      <td>1.0</td>\n",
       "      <td>NaN</td>\n",
       "      <td>328b0cf4e</td>\n",
       "      <td>0.686021</td>\n",
       "      <td>T</td>\n",
       "      <td>N</td>\n",
       "      <td>1.0</td>\n",
       "      <td>NaN</td>\n",
       "    </tr>\n",
       "    <tr>\n",
       "      <th>2</th>\n",
       "      <td>0</td>\n",
       "      <td>NaN</td>\n",
       "      <td>In</td>\n",
       "      <td>a</td>\n",
       "      <td>1.0</td>\n",
       "      <td>A</td>\n",
       "      <td>10.0</td>\n",
       "      <td>1.0</td>\n",
       "      <td>6.0</td>\n",
       "      <td>a5adff44e</td>\n",
       "      <td>...</td>\n",
       "      <td>0.5</td>\n",
       "      <td>1.0</td>\n",
       "      <td>3.0</td>\n",
       "      <td>G</td>\n",
       "      <td>0c67fcbbd</td>\n",
       "      <td>1.141271</td>\n",
       "      <td>T</td>\n",
       "      <td>N</td>\n",
       "      <td>3.0</td>\n",
       "      <td>NaN</td>\n",
       "    </tr>\n",
       "    <tr>\n",
       "      <th>3</th>\n",
       "      <td>1</td>\n",
       "      <td>1.0</td>\n",
       "      <td>rA</td>\n",
       "      <td>c</td>\n",
       "      <td>3.0</td>\n",
       "      <td>A</td>\n",
       "      <td>7.0</td>\n",
       "      <td>1.0</td>\n",
       "      <td>1.0</td>\n",
       "      <td>15c90ab2e</td>\n",
       "      <td>...</td>\n",
       "      <td>0.6</td>\n",
       "      <td>1.0</td>\n",
       "      <td>1.0</td>\n",
       "      <td>G</td>\n",
       "      <td>fee4e3007</td>\n",
       "      <td>0.662382</td>\n",
       "      <td>T</td>\n",
       "      <td>N</td>\n",
       "      <td>3.0</td>\n",
       "      <td>NaN</td>\n",
       "    </tr>\n",
       "    <tr>\n",
       "      <th>4</th>\n",
       "      <td>0</td>\n",
       "      <td>1.0</td>\n",
       "      <td>pE</td>\n",
       "      <td>c</td>\n",
       "      <td>3.0</td>\n",
       "      <td>A</td>\n",
       "      <td>7.0</td>\n",
       "      <td>0.0</td>\n",
       "      <td>6.0</td>\n",
       "      <td>b36490559</td>\n",
       "      <td>...</td>\n",
       "      <td>0.5</td>\n",
       "      <td>0.0</td>\n",
       "      <td>1.0</td>\n",
       "      <td>B</td>\n",
       "      <td>587e040bd</td>\n",
       "      <td>-1.000000</td>\n",
       "      <td>T</td>\n",
       "      <td>N</td>\n",
       "      <td>1.0</td>\n",
       "      <td>13.9537</td>\n",
       "    </tr>\n",
       "  </tbody>\n",
       "</table>\n",
       "<p>5 rows × 30 columns</p>\n",
       "</div>"
      ],
      "text/plain": [
       "    target   f0  f1 f2   f3 f4    f5   f6   f7         f8  ...  f19  f20  f21  \\\n",
       "id                                                         ...                  \n",
       "0        0  1.0  gL  e  3.0  A   NaN  0.0  6.0  96ae67d3e  ...  0.5  0.0  3.0   \n",
       "1        0  0.0  Rj  c  1.0  A   7.0  1.0  4.0  9fcf422f2  ...  0.4  0.0  1.0   \n",
       "2        0  NaN  In  a  1.0  A  10.0  1.0  6.0  a5adff44e  ...  0.5  1.0  3.0   \n",
       "3        1  1.0  rA  c  3.0  A   7.0  1.0  1.0  15c90ab2e  ...  0.6  1.0  1.0   \n",
       "4        0  1.0  pE  c  3.0  A   7.0  0.0  6.0  b36490559  ...  0.5  0.0  1.0   \n",
       "\n",
       "    f22        f23       f24 f25  f26  f27      f28  \n",
       "id                                                   \n",
       "0     R  328b0cf4e  0.834041   T    N  1.0  14.2364  \n",
       "1   NaN  328b0cf4e  0.686021   T    N  1.0      NaN  \n",
       "2     G  0c67fcbbd  1.141271   T    N  3.0      NaN  \n",
       "3     G  fee4e3007  0.662382   T    N  3.0      NaN  \n",
       "4     B  587e040bd -1.000000   T    N  1.0  13.9537  \n",
       "\n",
       "[5 rows x 30 columns]"
      ]
     },
     "execution_count": 76,
     "metadata": {},
     "output_type": "execute_result"
    }
   ],
   "source": [
    "# Loading the data\n",
    "training_data = pd.read_csv('../input/tdt05-2021-challenge-2/challenge2_train.csv', index_col=0)\n",
    "X_test = pd.read_csv('../input/tdt05-2021-challenge-2/challenge2_test.csv', index_col=0)\n",
    "\n",
    "print('Training shape:', training_data.shape)\n",
    "print('Test shape:', X_test.shape)\n",
    "summary_statistics = pd.DataFrame(\n",
    "    {\n",
    "        'dtype': training_data.dtypes,\n",
    "        'categories': training_data.nunique(),\n",
    "        '#nan': training_data.isnull().sum(axis = 0),\n",
    "    }, \n",
    "    index=training_data.columns,\n",
    ")\n",
    "\n",
    "print(summary_statistics)\n",
    "training_data.head(5)"
   ]
  },
  {
   "cell_type": "markdown",
   "metadata": {
    "editable": false
   },
   "source": [
    "# Exploratory Data Analysis (EDA)"
   ]
  },
  {
   "cell_type": "code",
   "execution_count": 77,
   "metadata": {
    "execution": {
     "iopub.execute_input": "2021-10-11T09:48:35.798555Z",
     "iopub.status.busy": "2021-10-11T09:48:35.798250Z",
     "iopub.status.idle": "2021-10-11T09:48:35.910507Z",
     "shell.execute_reply": "2021-10-11T09:48:35.909440Z",
     "shell.execute_reply.started": "2021-10-11T09:48:35.798517Z"
    }
   },
   "outputs": [
    {
     "data": {
      "image/png": "[encoded data removed]",
      "text/plain": [
       "<Figure size 1440x720 with 1 Axes>"
      ]
     },
     "metadata": {},
     "output_type": "display_data"
    }
   ],
   "source": [
    "plt.pie(\n",
    "    training_data['target'].value_counts(), \n",
    "    colors=sns.color_palette('pastel')[0:2], \n",
    "    labels=['0', '1'],\n",
    "    autopct='%.0f%%',\n",
    ")\n",
    "plt.show()"
   ]
  },
  {
   "cell_type": "code",
   "execution_count": 78,
   "metadata": {
    "execution": {
     "iopub.execute_input": "2021-10-11T09:48:35.912692Z",
     "iopub.status.busy": "2021-10-11T09:48:35.912341Z",
     "iopub.status.idle": "2021-10-11T09:48:43.924315Z",
     "shell.execute_reply": "2021-10-11T09:48:43.923389Z",
     "shell.execute_reply.started": "2021-10-11T09:48:35.912652Z"
    }
   },
   "outputs": [
    {
     "data": {
      "image/png": "[encoded data removed]",
      "text/plain": [
       "<Figure size 360x360 with 1 Axes>"
      ]
     },
     "metadata": {
      "needs_background": "light"
     },
     "output_type": "display_data"
    }
   ],
   "source": [
    "sns.catplot(data=training_data)\n",
    "plt.show()"
   ]
  },
  {
   "cell_type": "code",
   "execution_count": 79,
   "metadata": {},
   "outputs": [],
   "source": [
    "# TODO plot alle features\n",
    "\n",
    "# # numeric features with many values:\n",
    "# interval_features = ['f11', 'f17', 'f24', 'f28']\n",
    "# fig, axes = plt.subplots(6, 5)\n",
    "\n",
    "# for i, feature in enumerate(interval_features):\n",
    "#     ax = sns.boxplot(x=training_data[feature], ax=axes[0][i])\n",
    "#     ax.set_xlabel('')\n",
    "#     ax.set_ylabel(feature)\n",
    "\n",
    "# for i, feature in enumerate(interval_features):\n",
    "#     ax = sns.histplot(training_data[feature], ax=axes[1][i])\n",
    "#     ax.set_xlabel(feature)\n",
    "#     ax.set_ylabel('')\n",
    "\n",
    "# fig.tight_layout()\n",
    "# plt.show()"
   ]
  },
  {
   "cell_type": "markdown",
   "metadata": {},
   "source": [
    "# Feature engineering"
   ]
  },
  {
   "cell_type": "markdown",
   "metadata": {},
   "source": [
    "## Convert (possible) hexadecimal values to decimal"
   ]
  },
  {
   "cell_type": "code",
   "execution_count": 80,
   "metadata": {
    "execution": {
     "iopub.execute_input": "2021-10-11T09:48:43.926565Z",
     "iopub.status.busy": "2021-10-11T09:48:43.926267Z",
     "iopub.status.idle": "2021-10-11T09:48:43.933083Z",
     "shell.execute_reply": "2021-10-11T09:48:43.932213Z",
     "shell.execute_reply.started": "2021-10-11T09:48:43.926534Z"
    }
   },
   "outputs": [],
   "source": [
    "# Convert hexadecimal numbers to decimal\n",
    "hexadecimal_features = ['f8', 'f12', 'f14', 'f15', 'f23']\n",
    "\n",
    "if should_convert['hexadecimal']: \n",
    "\n",
    "    func = lambda hex: int(hex, base=16)\n",
    "    training_data[hexadecimal_features] = training_data[hexadecimal_features].applymap(func, na_action='ignore')\n",
    "    X_test[hexadecimal_features] = X_test[hexadecimal_features].applymap(func, na_action='ignore')\n",
    "\n",
    "    training_data[hexadecimal_features].astype(float)\n",
    "    training_data[hexadecimal_features].astype(float)\n"
   ]
  },
  {
   "cell_type": "code",
   "execution_count": 81,
   "metadata": {},
   "outputs": [],
   "source": [
    "# Plot distribution\n",
    "if should_convert['hexadecimal']: \n",
    "    \n",
    "    fig, axes = plt.subplots(1, len(hexadecimal_features))\n",
    "\n",
    "    for i, feature in enumerate(hexadecimal_features):\n",
    "        ax = sns.lineplot(training_data[feature], ax=axes[i])\n",
    "        ax.set_xlabel(feature)\n",
    "        ax.set_ylabel('')\n",
    "\n",
    "    plt.show()"
   ]
  },
  {
   "cell_type": "markdown",
   "metadata": {},
   "source": [
    "## Convert binary numbers to numerical"
   ]
  },
  {
   "cell_type": "code",
   "execution_count": 82,
   "metadata": {
    "execution": {
     "iopub.execute_input": "2021-10-11T09:48:43.936084Z",
     "iopub.status.busy": "2021-10-11T09:48:43.935888Z",
     "iopub.status.idle": "2021-10-11T09:48:43.948314Z",
     "shell.execute_reply": "2021-10-11T09:48:43.947555Z",
     "shell.execute_reply.started": "2021-10-11T09:48:43.936061Z"
    }
   },
   "outputs": [],
   "source": [
    "# Convert binary numbers to decimal\n",
    "binary_features = ['f20']  # 'f6' is automatically converted by pandas\n",
    "\n",
    "if should_convert['binary']:\n",
    "\n",
    "    binary_to_decimal = { \n",
    "        0.0: 0, \n",
    "        1.0: 1, \n",
    "        10.0: 2,\n",
    "        11.0: 3 \n",
    "    }\n",
    "\n",
    "    training_data[binary_features[0]] = training_data[binary_features[0]].map(binary_to_decimal, na_action='ignore')\n",
    "    X_test[binary_features[0]] = X_test[binary_features[0]].map(binary_to_decimal, na_action='ignore')\n",
    "\n",
    "    training_data[binary_features[0]].astype(float)\n",
    "    X_test[binary_features[0]].astype(float)"
   ]
  },
  {
   "cell_type": "markdown",
   "metadata": {},
   "source": [
    "## Convert alphabetic characters to numbers"
   ]
  },
  {
   "cell_type": "code",
   "execution_count": 83,
   "metadata": {},
   "outputs": [],
   "source": [
    "# Convert alphabetic characters to numbers: A=1, B=2, ..., Z=26\n",
    "alphabetic_features = ['f2', 'f10', 'f13', 'f18']\n",
    "\n",
    "if should_convert['alphabetic']:\n",
    "\n",
    "    func = lambda c: ord(c.lower()) - 96\n",
    "    training_data[alphabetic_features] = training_data[alphabetic_features].applymap(func, na_action='ignore')\n",
    "    X_test[alphabetic_features] = X_test[alphabetic_features].applymap(func, na_action='ignore')\n",
    "\n",
    "    training_data[alphabetic_features].astype(float)\n",
    "    X_test[alphabetic_features].astype(float)"
   ]
  },
  {
   "cell_type": "markdown",
   "metadata": {},
   "source": [
    "## Convert boolean features to numbers"
   ]
  },
  {
   "cell_type": "code",
   "execution_count": 84,
   "metadata": {},
   "outputs": [],
   "source": [
    "# Convert boolean features to 0.0 and 1.0\n",
    "boolean_mappings = {\n",
    "    'f4': {'B': 0.0, 'A': 1.0},\n",
    "    'f25': {'F': 1.0, 'T': 0.0},\n",
    "    'f26': {'S': 0.0, 'N': 1.0},\n",
    "}\n",
    "boolean_features = boolean_mappings.keys()\n",
    "\n",
    "if should_convert['boolean']:\n",
    "\n",
    "    for feature, mapping in boolean_mappings.items():\n",
    "        training_data[feature] = training_data[feature].map(mapping, na_action='ignore')\n",
    "        X_test[feature] = X_test[feature].map(mapping, na_action='ignore')\n",
    "        \n",
    "        training_data[feature].astype(float)\n",
    "        X_test[feature].astype(float)"
   ]
  },
  {
   "cell_type": "code",
   "execution_count": 85,
   "metadata": {},
   "outputs": [
    {
     "data": {
      "text/plain": [
       "target      int64\n",
       "f0        float64\n",
       "f1         object\n",
       "f2        float64\n",
       "f3        float64\n",
       "f4         object\n",
       "f5        float64\n",
       "f6        float64\n",
       "f7        float64\n",
       "f8         object\n",
       "f9         object\n",
       "f10       float64\n",
       "f11       float64\n",
       "f12        object\n",
       "f13       float64\n",
       "f14        object\n",
       "f15        object\n",
       "f16       float64\n",
       "f17       float64\n",
       "f18       float64\n",
       "f19       float64\n",
       "f20       float64\n",
       "f21       float64\n",
       "f22        object\n",
       "f23        object\n",
       "f24       float64\n",
       "f25        object\n",
       "f26        object\n",
       "f27       float64\n",
       "f28       float64\n",
       "dtype: object"
      ]
     },
     "execution_count": 85,
     "metadata": {},
     "output_type": "execute_result"
    }
   ],
   "source": [
    "training_data.dtypes"
   ]
  },
  {
   "cell_type": "markdown",
   "metadata": {},
   "source": [
    "## Correlation plot of numeric values\n",
    "\n",
    "We are only plotting the correlation of numeric features in this instance"
   ]
  },
  {
   "cell_type": "code",
   "execution_count": 86,
   "metadata": {
    "execution": {
     "iopub.execute_input": "2021-10-11T09:48:43.950277Z",
     "iopub.status.busy": "2021-10-11T09:48:43.949574Z",
     "iopub.status.idle": "2021-10-11T09:48:45.493217Z",
     "shell.execute_reply": "2021-10-11T09:48:45.492426Z",
     "shell.execute_reply.started": "2021-10-11T09:48:43.950235Z"
    }
   },
   "outputs": [
    {
     "data": {
      "text/plain": [
       "<AxesSubplot:>"
      ]
     },
     "execution_count": 86,
     "metadata": {},
     "output_type": "execute_result"
    },
    {
     "data": {
      "image/png": "[encoded data removed]",
      "text/plain": [
       "<Figure size 1440x720 with 2 Axes>"
      ]
     },
     "metadata": {
      "needs_background": "light"
     },
     "output_type": "display_data"
    }
   ],
   "source": [
    "# Correlation plot\n",
    "sns.heatmap(training_data.corr(), annot=True, cmap='viridis')"
   ]
  },
  {
   "cell_type": "markdown",
   "metadata": {},
   "source": [
    "The correlation plot shows that **f20** and **f27** have a high correlation and one of these should be dropped to reduce the computational cost. We can also see that the features **f3** and **f16** have a higher correlation with the target value than others, and that we probably should somewhat focus our efforts on these."
   ]
  },
  {
   "cell_type": "markdown",
   "metadata": {
    "editable": false
   },
   "source": [
    "### Feature description\n",
    "\n",
    "| Feature | Example | Note |\n",
    "| :-- | :-- | :-- |\n",
    "| target | 0 or 1 | This means that the problem is a binary classification |\n",
    "| f0 | 0.0 or 1.0 | Binary. Could be turned into a categorical feature |\n",
    "| f1 | gL, Rj, In, ... | 173 unique two letter pairs, could be country codes or something similar |\n",
    "| f2 | a, b, ..., f | letters a-f |\n",
    "| f3 | 1.0, 2.0 or 3.0 | ordinal of some kind, should not be converted to categorical |\n",
    "| f4 | A or B | mostly As (=88%) |\n",
    "| f5 | -1, ..., 11 | weird distribution, many null values |\n",
    "| f6 | 0 or 10 | Binary - could be turned into a categorical feature |\n",
    "| f7 | 1, 2, ..., 6 | Ordinal of some kind, should not be converted to categorical |\n",
    "| f8 | '96ae67d3e', 'a5adff44e' | Looks like hexadecimal, might be a hash of some kind |\n",
    "| f9 | red, white, black, green, yellow | five colors |\n",
    "| f10 | A, B, ..., Z | Could be converted to integers to get ordinal property |\n",
    "| f11 | 139681, 140242, 142174 |  |\n",
    "| f12 | '1c756c04a', '5d1ac7760' | Looks like hexadecimal, might be a hash of some kind |\n",
    "| f13 | a, b, ..., o | Could be converted to integers to get ordinal property |\n",
    "| f14 | '168e51823', '558613041' | Looks like hexadecimal, might be a hash of some kind |\n",
    "| f15 | '7861df0a8', '1d88b0a79' | Looks like hexadecimal, might be a hash of some kind |\n",
    "| f16 | 0, 10, ..., 120 | Ordinal of some kind, should not be converted to categorical |\n",
    "| f17 | 858314945, 616742978 |  |\n",
    "| f18 | A, B, ..., F | Could be converted to integers to get ordinal property |\n",
    "| f19 | 0, 1, ..., 6 | Ordinal of some kind, should not be converted to categorical |\n",
    "| f20 | 00, 01, 10 or 11 | Looks like a binary number. Could be converted to 0, 1, 2 and 3 |\n",
    "| f21 | 0, 10, ..., 70 | Ordinal of some kind, should not be converted to categorical |\n",
    "| f22 | R, G or B | Could it be a coincidence that it is RGB? |\n",
    "| f23 | '328b0cf4e', '0c67fcbbd' | Looks like hexadecimal, might be a hash of some kind |\n",
    "| f24 | 834041366, 686021137 |  |\n",
    "| f25 | T or F | Binary - (T)rue or (F)alse |\n",
    "| f26 | N or S | Binary - (N)orth or (S)outh? |\n",
    "| f27 | 0, 1, ..., 4 | Ordinal of some kind, should not be converted to categorical |\n",
    "| f28 | 141855, 139805 |  |\n"
   ]
  },
  {
   "cell_type": "markdown",
   "metadata": {
    "editable": false
   },
   "source": [
    "The features labeled:\n",
    "- f8 \n",
    "- f12 \n",
    "- f14 \n",
    "- f15 \n",
    "- f23\n",
    "\n",
    "All seem to be hexadecimal. These might just be an id of sorts, or they can be the hex representation of a number.  \n",
    "An idea can be to covert these into decimal and see if they are important somehow.\n",
    "\n",
    "Or check if the number of categories increases significantly when we add the test data "
   ]
  },
  {
   "cell_type": "code",
   "execution_count": 87,
   "metadata": {
    "editable": false,
    "execution": {
     "iopub.execute_input": "2021-10-11T09:48:45.790673Z",
     "iopub.status.busy": "2021-10-11T09:48:45.790425Z",
     "iopub.status.idle": "2021-10-11T09:48:46.051433Z",
     "shell.execute_reply": "2021-10-11T09:48:46.050474Z",
     "shell.execute_reply.started": "2021-10-11T09:48:45.790644Z"
    }
   },
   "outputs": [
    {
     "name": "stdout",
     "output_type": "stream",
     "text": [
      "     #categories before merge  #categories after merge\n",
      "f8                       2177                     2203\n",
      "f12                       222                      222\n",
      "f14                      1204                     1211\n",
      "f15                       222                      222\n",
      "f23                      1495                     1514\n"
     ]
    }
   ],
   "source": [
    "# # Convert hexadecimal features to decimal\n",
    "# radix = 16\n",
    "# hexadecimal_features = ['f8', 'f12', 'f14', 'f15', 'f23']\n",
    "# \n",
    "# X_transformed = training_data.copy()\n",
    "# X_transformed[hexadecimal_features] = X_transformed[hexadecimal_features].fillna('-1').transform(lambda x: x.astype(str).map(lambda x: int(x, base=radix)))\n",
    "# X_transformed = X_transformed.replace(-1, float('nan'))  # keep nan for later processing step\n",
    "\n",
    "# print(X[hexadecimal_features].nunique())\n",
    "# X[hexadecimal_features].hist(bins=2203, figsize=(25, 15), layout=(2, 7))\n",
    "\n",
    "# ------------------------------------------------------------------------\n",
    "\n",
    "# Check if the number of categories increases when we add the test data \n",
    "hexadecimal_features = ['f8', 'f12', 'f14', 'f15', 'f23']\n",
    "merged_datasets = pd.concat([training_data, X_test])[hexadecimal_features]\n",
    "\n",
    "merged_statistics = pd.DataFrame(\n",
    "    {\n",
    "        '#categories before merge': training_data.nunique(), \n",
    "        '#categories after merge': merged_datasets.nunique(), \n",
    "    }, \n",
    "    index=merged_datasets.columns,\n",
    ")\n",
    "\n",
    "print(merged_statistics)"
   ]
  },
  {
   "cell_type": "markdown",
   "metadata": {},
   "source": [
    "Note: \n",
    "\n",
    "It is peculiar that f12 and f15 have the same amount of categories =222\n",
    "\n",
    "What could this number represent? \n"
   ]
  },
  {
   "cell_type": "markdown",
   "metadata": {
    "editable": false
   },
   "source": [
    "## Data cleaning\n",
    "Data cleaning consists of the following steps\n",
    "- Removal of unwanted observations\n",
    "- Fixing structural errors\n",
    "- Managing unwanted outliers\n",
    "- Handeling missing data"
   ]
  },
  {
   "cell_type": "code",
   "execution_count": 88,
   "metadata": {
    "editable": false,
    "execution": {
     "iopub.execute_input": "2021-10-11T09:48:46.055191Z",
     "iopub.status.busy": "2021-10-11T09:48:46.054966Z",
     "iopub.status.idle": "2021-10-11T09:48:46.175202Z",
     "shell.execute_reply": "2021-10-11T09:48:46.174454Z",
     "shell.execute_reply.started": "2021-10-11T09:48:46.055167Z"
    }
   },
   "outputs": [
    {
     "data": {
      "text/plain": [
       "0"
      ]
     },
     "execution_count": 88,
     "metadata": {},
     "output_type": "execute_result"
    }
   ],
   "source": [
    "# Duplicate detection\n",
    "training_data.duplicated().sum(axis = 0)"
   ]
  },
  {
   "cell_type": "markdown",
   "metadata": {},
   "source": [
    "### Outlier detection and removal"
   ]
  },
  {
   "cell_type": "code",
   "execution_count": 89,
   "metadata": {
    "editable": false,
    "execution": {
     "iopub.execute_input": "2021-10-11T09:48:46.176677Z",
     "iopub.status.busy": "2021-10-11T09:48:46.176445Z",
     "iopub.status.idle": "2021-10-11T09:48:48.464610Z",
     "shell.execute_reply": "2021-10-11T09:48:48.463701Z",
     "shell.execute_reply.started": "2021-10-11T09:48:46.176653Z"
    }
   },
   "outputs": [
    {
     "data": {
      "image/png": "[encoded data removed]",
      "text/plain": [
       "<Figure size 1440x720 with 8 Axes>"
      ]
     },
     "metadata": {
      "needs_background": "light"
     },
     "output_type": "display_data"
    },
    {
     "data": {
      "text/plain": [
       "<Figure size 1440x1080 with 0 Axes>"
      ]
     },
     "metadata": {},
     "output_type": "display_data"
    }
   ],
   "source": [
    "# Outliers\n",
    "\n",
    "plt.close()\n",
    "# numeric features with many values:\n",
    "interval_features = ['f11', 'f17', 'f24', 'f28']\n",
    "fig, axes = plt.subplots(2, len(interval_features))\n",
    "plt.figure(figsize=(20, 15))\n",
    "\n",
    "for i, feature in enumerate(interval_features):\n",
    "    ax = sns.boxplot(x=training_data[feature], ax=axes[0][i])\n",
    "    ax.set_xlabel('')\n",
    "    ax.set_ylabel(feature)\n",
    "\n",
    "for i, feature in enumerate(interval_features):\n",
    "    ax = sns.histplot(training_data[feature], ax=axes[1][i])\n",
    "    ax.set_xlabel(feature)\n",
    "    ax.set_ylabel('')\n",
    "\n",
    "fig.tight_layout()\n",
    "plt.show()"
   ]
  },
  {
   "cell_type": "code",
   "execution_count": 90,
   "metadata": {
    "execution": {
     "iopub.execute_input": "2021-10-11T09:48:48.466659Z",
     "iopub.status.busy": "2021-10-11T09:48:48.466116Z",
     "iopub.status.idle": "2021-10-11T09:48:48.795452Z",
     "shell.execute_reply": "2021-10-11T09:48:48.794866Z",
     "shell.execute_reply.started": "2021-10-11T09:48:48.466616Z"
    }
   },
   "outputs": [
    {
     "name": "stderr",
     "output_type": "stream",
     "text": [
      "/tmp/ipykernel_8631/2905575257.py:8: FutureWarning: Automatic reindexing on DataFrame vs Series comparisons is deprecated and will raise ValueError in a future version.  Do `left, right = left.align(right, axis=1, copy=False)` before e.g. `left == right`\n",
      "  training_data = training_data[~(training_data > (Q3 + 1.5 * IQR)).any(axis=1)]\n"
     ]
    },
    {
     "data": {
      "text/plain": [
       "(47297, 30)"
      ]
     },
     "execution_count": 90,
     "metadata": {},
     "output_type": "execute_result"
    }
   ],
   "source": [
    "# Outlier removal by interquartile range (IQR) method\n",
    "\n",
    "Q1 = training_data[interval_features].quantile(0.25)\n",
    "Q3 = training_data[interval_features].quantile(0.75)\n",
    "IQR = Q3 - Q1\n",
    "\n",
    "# Only remove the \"right tail\" from the features to keep the -1 value \n",
    "training_data = training_data[~(training_data > (Q3 + 1.5 * IQR)).any(axis=1)]\n",
    "training_data.shape"
   ]
  },
  {
   "cell_type": "markdown",
   "metadata": {
    "editable": false
   },
   "source": [
    "### Dealing with missing values\n",
    "XBoost and CatBoost handles missing data differently. This needs to be taken into account before training.\n",
    "- XGBoost: missing values should be zero\n",
    "- CatBoost: missing values should be way off the distribution, like -999"
   ]
  },
  {
   "cell_type": "code",
   "execution_count": 91,
   "metadata": {
    "editable": false,
    "execution": {
     "iopub.execute_input": "2021-10-11T09:48:49.167792Z",
     "iopub.status.busy": "2021-10-11T09:48:49.167426Z",
     "iopub.status.idle": "2021-10-11T09:48:49.205377Z",
     "shell.execute_reply": "2021-10-11T09:48:49.204453Z",
     "shell.execute_reply.started": "2021-10-11T09:48:49.167752Z"
    }
   },
   "outputs": [],
   "source": [
    "# Partition the data\n",
    "X = training_data.drop(columns=['target']).copy()\n",
    "y = training_data[['target']].copy()"
   ]
  },
  {
   "cell_type": "markdown",
   "metadata": {},
   "source": [
    "# Training"
   ]
  },
  {
   "cell_type": "markdown",
   "metadata": {
    "editable": false
   },
   "source": [
    "## CatBoost"
   ]
  },
  {
   "cell_type": "code",
   "execution_count": 92,
   "metadata": {
    "execution": {
     "iopub.execute_input": "2021-10-11T09:48:49.206910Z",
     "iopub.status.busy": "2021-10-11T09:48:49.206683Z",
     "iopub.status.idle": "2021-10-11T09:48:49.449752Z",
     "shell.execute_reply": "2021-10-11T09:48:49.448834Z",
     "shell.execute_reply.started": "2021-10-11T09:48:49.206886Z"
    }
   },
   "outputs": [
    {
     "name": "stdout",
     "output_type": "stream",
     "text": [
      "        #nan_train  #nan_test\n",
      "target           0          0\n",
      "f0            1393       1393\n",
      "f1            1396       1396\n",
      "f2            1362       1362\n",
      "f3            1414       1414\n",
      "f4            1413       1413\n",
      "f5           10998      10998\n",
      "f6            1404       1404\n",
      "f7            1451       1451\n",
      "f8            1419       1419\n",
      "f9            1403       1403\n",
      "f10           1431       1431\n",
      "f11            135        135\n",
      "f12           1461       1461\n",
      "f13           1365       1365\n",
      "f14           1382       1382\n",
      "f15           1408       1408\n",
      "f16           1369       1369\n",
      "f17           9561       9561\n",
      "f18           1461       1461\n",
      "f19           1346       1346\n",
      "f20           1395       1395\n",
      "f21           1436       1436\n",
      "f22           1433       1433\n",
      "f23           1429       1429\n",
      "f24           2626       2626\n",
      "f25           1463       1463\n",
      "f26           1385       1385\n",
      "f27           1395       1395\n",
      "f28          12416      12416\n"
     ]
    }
   ],
   "source": [
    "# CatBoost specific preprocessing\n",
    "\n",
    "# Imputing \n",
    "fill_value = -999 \n",
    "\n",
    "X_catboost = X.fillna(fill_value)\n",
    "X_test_catboost = X_test.fillna(fill_value)\n",
    "\n",
    "missing_values = pd.DataFrame(\n",
    "    {\n",
    "        '#nan_train': training_data.isnull().sum(axis = 0),\n",
    "        '#nan_test': training_data.isnull().sum(axis = 0),\n",
    "    }, \n",
    "    index=training_data.columns,\n",
    ")\n",
    "\n",
    "# Check if there are any missing values left\n",
    "print(missing_values)\n",
    "\n",
    "# -----------------------------------------------------------\n",
    "\n",
    "# Converting numerical features to categorical \"strings\"\n",
    "categorical_numerical_features = []\n",
    "\n",
    "if not should_convert['binary']:\n",
    "    categorical_numerical_features += binary_features\n",
    "\n",
    "if not should_convert['boolean']:\n",
    "    categorical_numerical_features += ['f0', 'f6']\n",
    "\n",
    "X_catboost[categorical_numerical_features] = X_catboost[categorical_numerical_features].astype(str)\n",
    "X_test_catboost[categorical_numerical_features] = X_test_catboost[categorical_numerical_features].astype(str)\n",
    "\n",
    "# f0, f5, f27 have low feature importance and can be dropped for more generality\n",
    "#X.drop([\"f6\", \"f7\", \"f12\", \"f19\", \"f15\"], axis=1, inplace=True)\n",
    "#X_test.drop([\"f6\", \"f7\", \"f12\", \"f19\", \"f15\"], axis=1, inplace=True)"
   ]
  },
  {
   "cell_type": "markdown",
   "metadata": {},
   "source": []
  },
  {
   "cell_type": "code",
   "execution_count": 93,
   "metadata": {},
   "outputs": [],
   "source": [
    "# Utility function to go from, e.g. 'f10' to 10\n",
    "def features_to_indices(features):\n",
    "    return [int(column.replace('f', '')) for column in features]"
   ]
  },
  {
   "cell_type": "code",
   "execution_count": 94,
   "metadata": {},
   "outputs": [],
   "source": [
    "# Utility function to go from, e.g. 10 to 'f10\n",
    "def indices_to_features(indices):\n",
    "    return [f'f{index}' for index in indices]"
   ]
  },
  {
   "cell_type": "code",
   "execution_count": 95,
   "metadata": {
    "execution": {
     "iopub.execute_input": "2021-10-11T09:48:49.451212Z",
     "iopub.status.busy": "2021-10-11T09:48:49.450927Z",
     "iopub.status.idle": "2021-10-11T09:48:49.457259Z",
     "shell.execute_reply": "2021-10-11T09:48:49.456346Z",
     "shell.execute_reply.started": "2021-10-11T09:48:49.451184Z"
    }
   },
   "outputs": [],
   "source": [
    "# Utility function for computing the new indices after dropping certain columns\n",
    "def indices_after_droping(indices, dropped_columns):\n",
    "    updated_indices = list(indices)\n",
    "    dropped_indices = features_to_indices(dropped_columns)\n",
    "    \n",
    "    for i, old_index in enumerate(indices):\n",
    "        for column_index in dropped_indices:\n",
    "            if old_index >= column_index:\n",
    "                updated_indices[i] -= 1\n",
    "\n",
    "    return updated_indices"
   ]
  },
  {
   "cell_type": "code",
   "execution_count": null,
   "metadata": {},
   "outputs": [
    {
     "name": "stdout",
     "output_type": "stream",
     "text": [
      "Categorical features: [1, 9, 22, 8, 12, 14, 15, 23, 4, 25, 26]\n"
     ]
    }
   ],
   "source": [
    "# Find out which features are categorical before training\n",
    "categorical_features_indices = [1, 9, 22]\n",
    "\n",
    "if not should_convert['hexadecimal']:\n",
    "    categorical_features_indices += features_to_indices(hexadecimal_features)\n",
    "\n",
    "if not should_convert['alphabetic']:\n",
    "    categorical_features_indices += features_to_indices(alphabetic_features)\n",
    "\n",
    "if not should_convert['binary']:\n",
    "    categorical_features_indices += features_to_indices(binary_features)\n",
    "\n",
    "if not should_convert['boolean']:\n",
    "    categorical_features_indices += features_to_indices(boolean_features)\n",
    "    \n",
    "categorical_features_indices = sorted(categorical_features_indices)\n",
    "print('Categorical features:', categorical_features_indices)"
   ]
  },
  {
   "cell_type": "code",
   "execution_count": 97,
   "metadata": {
    "execution": {
     "iopub.execute_input": "2021-10-11T09:48:49.458727Z",
     "iopub.status.busy": "2021-10-11T09:48:49.458483Z"
    }
   },
   "outputs": [
    {
     "data": {
      "text/plain": [
       "<catboost.core.CatBoostClassifier at 0x7f14e81cf070>"
      ]
     },
     "execution_count": 97,
     "metadata": {},
     "output_type": "execute_result"
    }
   ],
   "source": [
    "from catboost import CatBoostClassifier, Pool, metrics, cv\n",
    "from sklearn.model_selection import train_test_split\n",
    "from sklearn.metrics import accuracy_score\n",
    "\n",
    "# X_train, X_validation, y_train, y_validation = train_test_split(X, y, train_size=0.75, random_state=42)\n",
    "\n",
    "catboost_model = CatBoostClassifier(\n",
    "    custom_loss=[metrics.Accuracy()],\n",
    "    random_seed=42,\n",
    "    logging_level='Silent'\n",
    ")\n",
    "\n",
    "catboost_model.fit(\n",
    "    X_catboost, y,\n",
    "    cat_features=categorical_features_indices,\n",
    "    # eval_set=(X_validation, y_validation),\n",
    "    # plot=True\n",
    ")\n",
    "\n",
    "# cv_params = catBoost.get_params()\n",
    "# cv_params.update({\n",
    "#     'loss_function': metrics.Logloss()\n",
    "# })\n",
    "\n",
    "# cv_data = cv(\n",
    "#     Pool(X, y, cat_features=categorical_features_indices),\n",
    "#     cv_params,\n",
    "#     plot=True\n",
    "# )"
   ]
  },
  {
   "cell_type": "code",
   "execution_count": 98,
   "metadata": {},
   "outputs": [
    {
     "name": "stdout",
     "output_type": "stream",
     "text": [
      "Accuracy: 84.09%\n"
     ]
    },
    {
     "data": {
      "text/plain": [
       "<AxesSubplot:xlabel='feature_importance'>"
      ]
     },
     "execution_count": 98,
     "metadata": {},
     "output_type": "execute_result"
    },
    {
     "data": {
      "image/png": "[encoded data removed]",
      "text/plain": [
       "<Figure size 1440x720 with 1 Axes>"
      ]
     },
     "metadata": {
      "needs_background": "light"
     },
     "output_type": "display_data"
    }
   ],
   "source": [
    "accuracy = catboost_model.get_best_score()['learn']['Accuracy']\n",
    "print(\"Accuracy: %.2f%%\" % (accuracy * 100.0))\n",
    "\n",
    "feature_importance = pd.DataFrame({'feature_importance': catboost_model.get_feature_importance()}, index=X_catboost.columns)\n",
    "feature_importance.sort_values(by='feature_importance', ascending=False, inplace=True)\n",
    "sns.barplot(data=feature_importance, x='feature_importance', y=feature_importance.index)"
   ]
  },
  {
   "cell_type": "markdown",
   "metadata": {},
   "source": [
    "## XGBoost "
   ]
  },
  {
   "cell_type": "code",
   "execution_count": 99,
   "metadata": {},
   "outputs": [
    {
     "name": "stdout",
     "output_type": "stream",
     "text": [
      "[1, 9, 22, 8, 12, 14, 15, 23, 4, 25, 26]\n"
     ]
    }
   ],
   "source": [
    "# XGBoost requires only numerical features\n",
    "# One-hot encode all categorical features\n",
    "categorical_features = indices_to_features(categorical_features_indices)\n",
    "print(categorical_features_indices)\n",
    "\n",
    "X_xgboost = pd.get_dummies(X, columns=categorical_features)\n",
    "X_test_xgboost = pd.get_dummies(X_test, columns=categorical_features)"
   ]
  },
  {
   "cell_type": "code",
   "execution_count": 100,
   "metadata": {},
   "outputs": [
    {
     "name": "stderr",
     "output_type": "stream",
     "text": [
      "/home/nicklas/repos/artificial-intelligence/tdt05/venv/lib/python3.8/site-packages/xgboost/sklearn.py:1146: UserWarning: The use of label encoder in XGBClassifier is deprecated and will be removed in a future release. To remove this warning, do the following: 1) Pass option use_label_encoder=False when constructing XGBClassifier object; and 2) Encode your labels (y) as integers starting with 0, i.e. 0, 1, 2, ..., [num_class - 1].\n",
      "  warnings.warn(label_encoder_deprecation_msg, UserWarning)\n",
      "/home/nicklas/repos/artificial-intelligence/tdt05/venv/lib/python3.8/site-packages/sklearn/preprocessing/_label.py:98: DataConversionWarning: A column-vector y was passed when a 1d array was expected. Please change the shape of y to (n_samples, ), for example using ravel().\n",
      "  y = column_or_1d(y, warn=True)\n",
      "/home/nicklas/repos/artificial-intelligence/tdt05/venv/lib/python3.8/site-packages/sklearn/preprocessing/_label.py:133: DataConversionWarning: A column-vector y was passed when a 1d array was expected. Please change the shape of y to (n_samples, ), for example using ravel().\n",
      "  y = column_or_1d(y, warn=True)\n"
     ]
    },
    {
     "name": "stdout",
     "output_type": "stream",
     "text": [
      "[14:24:44] WARNING: ../src/learner.cc:1095: Starting in XGBoost 1.3.0, the default evaluation metric used with the objective 'binary:logistic' was changed from 'error' to 'logloss'. Explicitly set eval_metric if you'd like to restore the old behavior.\n"
     ]
    },
    {
     "ename": "KeyboardInterrupt",
     "evalue": "",
     "output_type": "error",
     "traceback": [
      "\u001b[0;31m---------------------------------------------------------------------------\u001b[0m",
      "\u001b[0;31mKeyboardInterrupt\u001b[0m                         Traceback (most recent call last)",
      "\u001b[0;32m/tmp/ipykernel_8631/2607718763.py\u001b[0m in \u001b[0;36m<module>\u001b[0;34m\u001b[0m\n\u001b[1;32m      2\u001b[0m \u001b[0;34m\u001b[0m\u001b[0m\n\u001b[1;32m      3\u001b[0m \u001b[0mxgboost_model\u001b[0m \u001b[0;34m=\u001b[0m \u001b[0mXGBClassifier\u001b[0m\u001b[0;34m(\u001b[0m\u001b[0;34m)\u001b[0m\u001b[0;34m\u001b[0m\u001b[0;34m\u001b[0m\u001b[0m\n\u001b[0;32m----> 4\u001b[0;31m \u001b[0mxgboost_model\u001b[0m\u001b[0;34m.\u001b[0m\u001b[0mfit\u001b[0m\u001b[0;34m(\u001b[0m\u001b[0mX_xgboost\u001b[0m\u001b[0;34m,\u001b[0m \u001b[0my\u001b[0m\u001b[0;34m)\u001b[0m\u001b[0;34m\u001b[0m\u001b[0;34m\u001b[0m\u001b[0m\n\u001b[0m\u001b[1;32m      5\u001b[0m \u001b[0;34m\u001b[0m\u001b[0m\n\u001b[1;32m      6\u001b[0m \u001b[0mpredictions\u001b[0m \u001b[0;34m=\u001b[0m \u001b[0mxgboost_model\u001b[0m\u001b[0;34m.\u001b[0m\u001b[0mpredict\u001b[0m\u001b[0;34m(\u001b[0m\u001b[0mX_xgboost\u001b[0m\u001b[0;34m)\u001b[0m\u001b[0;34m\u001b[0m\u001b[0;34m\u001b[0m\u001b[0m\n",
      "\u001b[0;32m~/repos/artificial-intelligence/tdt05/venv/lib/python3.8/site-packages/xgboost/core.py\u001b[0m in \u001b[0;36minner_f\u001b[0;34m(*args, **kwargs)\u001b[0m\n\u001b[1;32m    434\u001b[0m         \u001b[0;32mfor\u001b[0m \u001b[0mk\u001b[0m\u001b[0;34m,\u001b[0m \u001b[0marg\u001b[0m \u001b[0;32min\u001b[0m \u001b[0mzip\u001b[0m\u001b[0;34m(\u001b[0m\u001b[0msig\u001b[0m\u001b[0;34m.\u001b[0m\u001b[0mparameters\u001b[0m\u001b[0;34m,\u001b[0m \u001b[0margs\u001b[0m\u001b[0;34m)\u001b[0m\u001b[0;34m:\u001b[0m\u001b[0;34m\u001b[0m\u001b[0;34m\u001b[0m\u001b[0m\n\u001b[1;32m    435\u001b[0m             \u001b[0mkwargs\u001b[0m\u001b[0;34m[\u001b[0m\u001b[0mk\u001b[0m\u001b[0;34m]\u001b[0m \u001b[0;34m=\u001b[0m \u001b[0marg\u001b[0m\u001b[0;34m\u001b[0m\u001b[0;34m\u001b[0m\u001b[0m\n\u001b[0;32m--> 436\u001b[0;31m         \u001b[0;32mreturn\u001b[0m \u001b[0mf\u001b[0m\u001b[0;34m(\u001b[0m\u001b[0;34m**\u001b[0m\u001b[0mkwargs\u001b[0m\u001b[0;34m)\u001b[0m\u001b[0;34m\u001b[0m\u001b[0;34m\u001b[0m\u001b[0m\n\u001b[0m\u001b[1;32m    437\u001b[0m \u001b[0;34m\u001b[0m\u001b[0m\n\u001b[1;32m    438\u001b[0m     \u001b[0;32mreturn\u001b[0m \u001b[0minner_f\u001b[0m\u001b[0;34m\u001b[0m\u001b[0;34m\u001b[0m\u001b[0m\n",
      "\u001b[0;32m~/repos/artificial-intelligence/tdt05/venv/lib/python3.8/site-packages/xgboost/sklearn.py\u001b[0m in \u001b[0;36mfit\u001b[0;34m(self, X, y, sample_weight, base_margin, eval_set, eval_metric, early_stopping_rounds, verbose, xgb_model, sample_weight_eval_set, base_margin_eval_set, feature_weights, callbacks)\u001b[0m\n\u001b[1;32m   1174\u001b[0m         )\n\u001b[1;32m   1175\u001b[0m \u001b[0;34m\u001b[0m\u001b[0m\n\u001b[0;32m-> 1176\u001b[0;31m         self._Booster = train(\n\u001b[0m\u001b[1;32m   1177\u001b[0m             \u001b[0mparams\u001b[0m\u001b[0;34m,\u001b[0m\u001b[0;34m\u001b[0m\u001b[0;34m\u001b[0m\u001b[0m\n\u001b[1;32m   1178\u001b[0m             \u001b[0mtrain_dmatrix\u001b[0m\u001b[0;34m,\u001b[0m\u001b[0;34m\u001b[0m\u001b[0;34m\u001b[0m\u001b[0m\n",
      "\u001b[0;32m~/repos/artificial-intelligence/tdt05/venv/lib/python3.8/site-packages/xgboost/training.py\u001b[0m in \u001b[0;36mtrain\u001b[0;34m(params, dtrain, num_boost_round, evals, obj, feval, maximize, early_stopping_rounds, evals_result, verbose_eval, xgb_model, callbacks)\u001b[0m\n\u001b[1;32m    187\u001b[0m     \u001b[0mBooster\u001b[0m \u001b[0;34m:\u001b[0m \u001b[0ma\u001b[0m \u001b[0mtrained\u001b[0m \u001b[0mbooster\u001b[0m \u001b[0mmodel\u001b[0m\u001b[0;34m\u001b[0m\u001b[0;34m\u001b[0m\u001b[0m\n\u001b[1;32m    188\u001b[0m     \"\"\"\n\u001b[0;32m--> 189\u001b[0;31m     bst = _train_internal(params, dtrain,\n\u001b[0m\u001b[1;32m    190\u001b[0m                           \u001b[0mnum_boost_round\u001b[0m\u001b[0;34m=\u001b[0m\u001b[0mnum_boost_round\u001b[0m\u001b[0;34m,\u001b[0m\u001b[0;34m\u001b[0m\u001b[0;34m\u001b[0m\u001b[0m\n\u001b[1;32m    191\u001b[0m                           \u001b[0mevals\u001b[0m\u001b[0;34m=\u001b[0m\u001b[0mevals\u001b[0m\u001b[0;34m,\u001b[0m\u001b[0;34m\u001b[0m\u001b[0;34m\u001b[0m\u001b[0m\n",
      "\u001b[0;32m~/repos/artificial-intelligence/tdt05/venv/lib/python3.8/site-packages/xgboost/training.py\u001b[0m in \u001b[0;36m_train_internal\u001b[0;34m(params, dtrain, num_boost_round, evals, obj, feval, xgb_model, callbacks, evals_result, maximize, verbose_eval, early_stopping_rounds)\u001b[0m\n\u001b[1;32m     79\u001b[0m         \u001b[0;32mif\u001b[0m \u001b[0mcallbacks\u001b[0m\u001b[0;34m.\u001b[0m\u001b[0mbefore_iteration\u001b[0m\u001b[0;34m(\u001b[0m\u001b[0mbst\u001b[0m\u001b[0;34m,\u001b[0m \u001b[0mi\u001b[0m\u001b[0;34m,\u001b[0m \u001b[0mdtrain\u001b[0m\u001b[0;34m,\u001b[0m \u001b[0mevals\u001b[0m\u001b[0;34m)\u001b[0m\u001b[0;34m:\u001b[0m\u001b[0;34m\u001b[0m\u001b[0;34m\u001b[0m\u001b[0m\n\u001b[1;32m     80\u001b[0m             \u001b[0;32mbreak\u001b[0m\u001b[0;34m\u001b[0m\u001b[0;34m\u001b[0m\u001b[0m\n\u001b[0;32m---> 81\u001b[0;31m         \u001b[0mbst\u001b[0m\u001b[0;34m.\u001b[0m\u001b[0mupdate\u001b[0m\u001b[0;34m(\u001b[0m\u001b[0mdtrain\u001b[0m\u001b[0;34m,\u001b[0m \u001b[0mi\u001b[0m\u001b[0;34m,\u001b[0m \u001b[0mobj\u001b[0m\u001b[0;34m)\u001b[0m\u001b[0;34m\u001b[0m\u001b[0;34m\u001b[0m\u001b[0m\n\u001b[0m\u001b[1;32m     82\u001b[0m         \u001b[0;32mif\u001b[0m \u001b[0mcallbacks\u001b[0m\u001b[0;34m.\u001b[0m\u001b[0mafter_iteration\u001b[0m\u001b[0;34m(\u001b[0m\u001b[0mbst\u001b[0m\u001b[0;34m,\u001b[0m \u001b[0mi\u001b[0m\u001b[0;34m,\u001b[0m \u001b[0mdtrain\u001b[0m\u001b[0;34m,\u001b[0m \u001b[0mevals\u001b[0m\u001b[0;34m)\u001b[0m\u001b[0;34m:\u001b[0m\u001b[0;34m\u001b[0m\u001b[0;34m\u001b[0m\u001b[0m\n\u001b[1;32m     83\u001b[0m             \u001b[0;32mbreak\u001b[0m\u001b[0;34m\u001b[0m\u001b[0;34m\u001b[0m\u001b[0m\n",
      "\u001b[0;32m~/repos/artificial-intelligence/tdt05/venv/lib/python3.8/site-packages/xgboost/core.py\u001b[0m in \u001b[0;36mupdate\u001b[0;34m(self, dtrain, iteration, fobj)\u001b[0m\n\u001b[1;32m   1497\u001b[0m \u001b[0;34m\u001b[0m\u001b[0m\n\u001b[1;32m   1498\u001b[0m         \u001b[0;32mif\u001b[0m \u001b[0mfobj\u001b[0m \u001b[0;32mis\u001b[0m \u001b[0;32mNone\u001b[0m\u001b[0;34m:\u001b[0m\u001b[0;34m\u001b[0m\u001b[0;34m\u001b[0m\u001b[0m\n\u001b[0;32m-> 1499\u001b[0;31m             _check_call(_LIB.XGBoosterUpdateOneIter(self.handle,\n\u001b[0m\u001b[1;32m   1500\u001b[0m                                                     \u001b[0mctypes\u001b[0m\u001b[0;34m.\u001b[0m\u001b[0mc_int\u001b[0m\u001b[0;34m(\u001b[0m\u001b[0miteration\u001b[0m\u001b[0;34m)\u001b[0m\u001b[0;34m,\u001b[0m\u001b[0;34m\u001b[0m\u001b[0;34m\u001b[0m\u001b[0m\n\u001b[1;32m   1501\u001b[0m                                                     dtrain.handle))\n",
      "\u001b[0;31mKeyboardInterrupt\u001b[0m: "
     ]
    }
   ],
   "source": [
    "from xgboost import XGBClassifier\n",
    "\n",
    "xgboost_model = XGBClassifier()\n",
    "xgboost_model.fit(X_xgboost, y)\n",
    "\n",
    "predictions = xgboost_model.predict(X_xgboost)\n",
    "accuracy = accuracy_score(y, predictions)\n",
    "print(\"Accuracy: %.2f%%\" % (accuracy * 100.0))"
   ]
  },
  {
   "cell_type": "markdown",
   "metadata": {},
   "source": [
    "# Hyper parameter tuning (CatBoost)"
   ]
  },
  {
   "cell_type": "code",
   "execution_count": 101,
   "metadata": {},
   "outputs": [
    {
     "name": "stdout",
     "output_type": "stream",
     "text": [
      "\u001b[0;31mInit signature:\u001b[0m\n",
      "\u001b[0mCatBoostClassifier\u001b[0m\u001b[0;34m(\u001b[0m\u001b[0;34m\u001b[0m\n",
      "\u001b[0;34m\u001b[0m    \u001b[0miterations\u001b[0m\u001b[0;34m=\u001b[0m\u001b[0;32mNone\u001b[0m\u001b[0;34m,\u001b[0m\u001b[0;34m\u001b[0m\n",
      "\u001b[0;34m\u001b[0m    \u001b[0mlearning_rate\u001b[0m\u001b[0;34m=\u001b[0m\u001b[0;32mNone\u001b[0m\u001b[0;34m,\u001b[0m\u001b[0;34m\u001b[0m\n",
      "\u001b[0;34m\u001b[0m    \u001b[0mdepth\u001b[0m\u001b[0;34m=\u001b[0m\u001b[0;32mNone\u001b[0m\u001b[0;34m,\u001b[0m\u001b[0;34m\u001b[0m\n",
      "\u001b[0;34m\u001b[0m    \u001b[0ml2_leaf_reg\u001b[0m\u001b[0;34m=\u001b[0m\u001b[0;32mNone\u001b[0m\u001b[0;34m,\u001b[0m\u001b[0;34m\u001b[0m\n",
      "\u001b[0;34m\u001b[0m    \u001b[0mmodel_size_reg\u001b[0m\u001b[0;34m=\u001b[0m\u001b[0;32mNone\u001b[0m\u001b[0;34m,\u001b[0m\u001b[0;34m\u001b[0m\n",
      "\u001b[0;34m\u001b[0m    \u001b[0mrsm\u001b[0m\u001b[0;34m=\u001b[0m\u001b[0;32mNone\u001b[0m\u001b[0;34m,\u001b[0m\u001b[0;34m\u001b[0m\n",
      "\u001b[0;34m\u001b[0m    \u001b[0mloss_function\u001b[0m\u001b[0;34m=\u001b[0m\u001b[0;32mNone\u001b[0m\u001b[0;34m,\u001b[0m\u001b[0;34m\u001b[0m\n",
      "\u001b[0;34m\u001b[0m    \u001b[0mborder_count\u001b[0m\u001b[0;34m=\u001b[0m\u001b[0;32mNone\u001b[0m\u001b[0;34m,\u001b[0m\u001b[0;34m\u001b[0m\n",
      "\u001b[0;34m\u001b[0m    \u001b[0mfeature_border_type\u001b[0m\u001b[0;34m=\u001b[0m\u001b[0;32mNone\u001b[0m\u001b[0;34m,\u001b[0m\u001b[0;34m\u001b[0m\n",
      "\u001b[0;34m\u001b[0m    \u001b[0mper_float_feature_quantization\u001b[0m\u001b[0;34m=\u001b[0m\u001b[0;32mNone\u001b[0m\u001b[0;34m,\u001b[0m\u001b[0;34m\u001b[0m\n",
      "\u001b[0;34m\u001b[0m    \u001b[0minput_borders\u001b[0m\u001b[0;34m=\u001b[0m\u001b[0;32mNone\u001b[0m\u001b[0;34m,\u001b[0m\u001b[0;34m\u001b[0m\n",
      "\u001b[0;34m\u001b[0m    \u001b[0moutput_borders\u001b[0m\u001b[0;34m=\u001b[0m\u001b[0;32mNone\u001b[0m\u001b[0;34m,\u001b[0m\u001b[0;34m\u001b[0m\n",
      "\u001b[0;34m\u001b[0m    \u001b[0mfold_permutation_block\u001b[0m\u001b[0;34m=\u001b[0m\u001b[0;32mNone\u001b[0m\u001b[0;34m,\u001b[0m\u001b[0;34m\u001b[0m\n",
      "\u001b[0;34m\u001b[0m    \u001b[0mod_pval\u001b[0m\u001b[0;34m=\u001b[0m\u001b[0;32mNone\u001b[0m\u001b[0;34m,\u001b[0m\u001b[0;34m\u001b[0m\n",
      "\u001b[0;34m\u001b[0m    \u001b[0mod_wait\u001b[0m\u001b[0;34m=\u001b[0m\u001b[0;32mNone\u001b[0m\u001b[0;34m,\u001b[0m\u001b[0;34m\u001b[0m\n",
      "\u001b[0;34m\u001b[0m    \u001b[0mod_type\u001b[0m\u001b[0;34m=\u001b[0m\u001b[0;32mNone\u001b[0m\u001b[0;34m,\u001b[0m\u001b[0;34m\u001b[0m\n",
      "\u001b[0;34m\u001b[0m    \u001b[0mnan_mode\u001b[0m\u001b[0;34m=\u001b[0m\u001b[0;32mNone\u001b[0m\u001b[0;34m,\u001b[0m\u001b[0;34m\u001b[0m\n",
      "\u001b[0;34m\u001b[0m    \u001b[0mcounter_calc_method\u001b[0m\u001b[0;34m=\u001b[0m\u001b[0;32mNone\u001b[0m\u001b[0;34m,\u001b[0m\u001b[0;34m\u001b[0m\n",
      "\u001b[0;34m\u001b[0m    \u001b[0mleaf_estimation_iterations\u001b[0m\u001b[0;34m=\u001b[0m\u001b[0;32mNone\u001b[0m\u001b[0;34m,\u001b[0m\u001b[0;34m\u001b[0m\n",
      "\u001b[0;34m\u001b[0m    \u001b[0mleaf_estimation_method\u001b[0m\u001b[0;34m=\u001b[0m\u001b[0;32mNone\u001b[0m\u001b[0;34m,\u001b[0m\u001b[0;34m\u001b[0m\n",
      "\u001b[0;34m\u001b[0m    \u001b[0mthread_count\u001b[0m\u001b[0;34m=\u001b[0m\u001b[0;32mNone\u001b[0m\u001b[0;34m,\u001b[0m\u001b[0;34m\u001b[0m\n",
      "\u001b[0;34m\u001b[0m    \u001b[0mrandom_seed\u001b[0m\u001b[0;34m=\u001b[0m\u001b[0;32mNone\u001b[0m\u001b[0;34m,\u001b[0m\u001b[0;34m\u001b[0m\n",
      "\u001b[0;34m\u001b[0m    \u001b[0muse_best_model\u001b[0m\u001b[0;34m=\u001b[0m\u001b[0;32mNone\u001b[0m\u001b[0;34m,\u001b[0m\u001b[0;34m\u001b[0m\n",
      "\u001b[0;34m\u001b[0m    \u001b[0mbest_model_min_trees\u001b[0m\u001b[0;34m=\u001b[0m\u001b[0;32mNone\u001b[0m\u001b[0;34m,\u001b[0m\u001b[0;34m\u001b[0m\n",
      "\u001b[0;34m\u001b[0m    \u001b[0mverbose\u001b[0m\u001b[0;34m=\u001b[0m\u001b[0;32mNone\u001b[0m\u001b[0;34m,\u001b[0m\u001b[0;34m\u001b[0m\n",
      "\u001b[0;34m\u001b[0m    \u001b[0msilent\u001b[0m\u001b[0;34m=\u001b[0m\u001b[0;32mNone\u001b[0m\u001b[0;34m,\u001b[0m\u001b[0;34m\u001b[0m\n",
      "\u001b[0;34m\u001b[0m    \u001b[0mlogging_level\u001b[0m\u001b[0;34m=\u001b[0m\u001b[0;32mNone\u001b[0m\u001b[0;34m,\u001b[0m\u001b[0;34m\u001b[0m\n",
      "\u001b[0;34m\u001b[0m    \u001b[0mmetric_period\u001b[0m\u001b[0;34m=\u001b[0m\u001b[0;32mNone\u001b[0m\u001b[0;34m,\u001b[0m\u001b[0;34m\u001b[0m\n",
      "\u001b[0;34m\u001b[0m    \u001b[0mctr_leaf_count_limit\u001b[0m\u001b[0;34m=\u001b[0m\u001b[0;32mNone\u001b[0m\u001b[0;34m,\u001b[0m\u001b[0;34m\u001b[0m\n",
      "\u001b[0;34m\u001b[0m    \u001b[0mstore_all_simple_ctr\u001b[0m\u001b[0;34m=\u001b[0m\u001b[0;32mNone\u001b[0m\u001b[0;34m,\u001b[0m\u001b[0;34m\u001b[0m\n",
      "\u001b[0;34m\u001b[0m    \u001b[0mmax_ctr_complexity\u001b[0m\u001b[0;34m=\u001b[0m\u001b[0;32mNone\u001b[0m\u001b[0;34m,\u001b[0m\u001b[0;34m\u001b[0m\n",
      "\u001b[0;34m\u001b[0m    \u001b[0mhas_time\u001b[0m\u001b[0;34m=\u001b[0m\u001b[0;32mNone\u001b[0m\u001b[0;34m,\u001b[0m\u001b[0;34m\u001b[0m\n",
      "\u001b[0;34m\u001b[0m    \u001b[0mallow_const_label\u001b[0m\u001b[0;34m=\u001b[0m\u001b[0;32mNone\u001b[0m\u001b[0;34m,\u001b[0m\u001b[0;34m\u001b[0m\n",
      "\u001b[0;34m\u001b[0m    \u001b[0mtarget_border\u001b[0m\u001b[0;34m=\u001b[0m\u001b[0;32mNone\u001b[0m\u001b[0;34m,\u001b[0m\u001b[0;34m\u001b[0m\n",
      "\u001b[0;34m\u001b[0m    \u001b[0mclasses_count\u001b[0m\u001b[0;34m=\u001b[0m\u001b[0;32mNone\u001b[0m\u001b[0;34m,\u001b[0m\u001b[0;34m\u001b[0m\n",
      "\u001b[0;34m\u001b[0m    \u001b[0mclass_weights\u001b[0m\u001b[0;34m=\u001b[0m\u001b[0;32mNone\u001b[0m\u001b[0;34m,\u001b[0m\u001b[0;34m\u001b[0m\n",
      "\u001b[0;34m\u001b[0m    \u001b[0mauto_class_weights\u001b[0m\u001b[0;34m=\u001b[0m\u001b[0;32mNone\u001b[0m\u001b[0;34m,\u001b[0m\u001b[0;34m\u001b[0m\n",
      "\u001b[0;34m\u001b[0m    \u001b[0mclass_names\u001b[0m\u001b[0;34m=\u001b[0m\u001b[0;32mNone\u001b[0m\u001b[0;34m,\u001b[0m\u001b[0;34m\u001b[0m\n",
      "\u001b[0;34m\u001b[0m    \u001b[0mone_hot_max_size\u001b[0m\u001b[0;34m=\u001b[0m\u001b[0;32mNone\u001b[0m\u001b[0;34m,\u001b[0m\u001b[0;34m\u001b[0m\n",
      "\u001b[0;34m\u001b[0m    \u001b[0mrandom_strength\u001b[0m\u001b[0;34m=\u001b[0m\u001b[0;32mNone\u001b[0m\u001b[0;34m,\u001b[0m\u001b[0;34m\u001b[0m\n",
      "\u001b[0;34m\u001b[0m    \u001b[0mname\u001b[0m\u001b[0;34m=\u001b[0m\u001b[0;32mNone\u001b[0m\u001b[0;34m,\u001b[0m\u001b[0;34m\u001b[0m\n",
      "\u001b[0;34m\u001b[0m    \u001b[0mignored_features\u001b[0m\u001b[0;34m=\u001b[0m\u001b[0;32mNone\u001b[0m\u001b[0;34m,\u001b[0m\u001b[0;34m\u001b[0m\n",
      "\u001b[0;34m\u001b[0m    \u001b[0mtrain_dir\u001b[0m\u001b[0;34m=\u001b[0m\u001b[0;32mNone\u001b[0m\u001b[0;34m,\u001b[0m\u001b[0;34m\u001b[0m\n",
      "\u001b[0;34m\u001b[0m    \u001b[0mcustom_loss\u001b[0m\u001b[0;34m=\u001b[0m\u001b[0;32mNone\u001b[0m\u001b[0;34m,\u001b[0m\u001b[0;34m\u001b[0m\n",
      "\u001b[0;34m\u001b[0m    \u001b[0mcustom_metric\u001b[0m\u001b[0;34m=\u001b[0m\u001b[0;32mNone\u001b[0m\u001b[0;34m,\u001b[0m\u001b[0;34m\u001b[0m\n",
      "\u001b[0;34m\u001b[0m    \u001b[0meval_metric\u001b[0m\u001b[0;34m=\u001b[0m\u001b[0;32mNone\u001b[0m\u001b[0;34m,\u001b[0m\u001b[0;34m\u001b[0m\n",
      "\u001b[0;34m\u001b[0m    \u001b[0mbagging_temperature\u001b[0m\u001b[0;34m=\u001b[0m\u001b[0;32mNone\u001b[0m\u001b[0;34m,\u001b[0m\u001b[0;34m\u001b[0m\n",
      "\u001b[0;34m\u001b[0m    \u001b[0msave_snapshot\u001b[0m\u001b[0;34m=\u001b[0m\u001b[0;32mNone\u001b[0m\u001b[0;34m,\u001b[0m\u001b[0;34m\u001b[0m\n",
      "\u001b[0;34m\u001b[0m    \u001b[0msnapshot_file\u001b[0m\u001b[0;34m=\u001b[0m\u001b[0;32mNone\u001b[0m\u001b[0;34m,\u001b[0m\u001b[0;34m\u001b[0m\n",
      "\u001b[0;34m\u001b[0m    \u001b[0msnapshot_interval\u001b[0m\u001b[0;34m=\u001b[0m\u001b[0;32mNone\u001b[0m\u001b[0;34m,\u001b[0m\u001b[0;34m\u001b[0m\n",
      "\u001b[0;34m\u001b[0m    \u001b[0mfold_len_multiplier\u001b[0m\u001b[0;34m=\u001b[0m\u001b[0;32mNone\u001b[0m\u001b[0;34m,\u001b[0m\u001b[0;34m\u001b[0m\n",
      "\u001b[0;34m\u001b[0m    \u001b[0mused_ram_limit\u001b[0m\u001b[0;34m=\u001b[0m\u001b[0;32mNone\u001b[0m\u001b[0;34m,\u001b[0m\u001b[0;34m\u001b[0m\n",
      "\u001b[0;34m\u001b[0m    \u001b[0mgpu_ram_part\u001b[0m\u001b[0;34m=\u001b[0m\u001b[0;32mNone\u001b[0m\u001b[0;34m,\u001b[0m\u001b[0;34m\u001b[0m\n",
      "\u001b[0;34m\u001b[0m    \u001b[0mpinned_memory_size\u001b[0m\u001b[0;34m=\u001b[0m\u001b[0;32mNone\u001b[0m\u001b[0;34m,\u001b[0m\u001b[0;34m\u001b[0m\n",
      "\u001b[0;34m\u001b[0m    \u001b[0mallow_writing_files\u001b[0m\u001b[0;34m=\u001b[0m\u001b[0;32mNone\u001b[0m\u001b[0;34m,\u001b[0m\u001b[0;34m\u001b[0m\n",
      "\u001b[0;34m\u001b[0m    \u001b[0mfinal_ctr_computation_mode\u001b[0m\u001b[0;34m=\u001b[0m\u001b[0;32mNone\u001b[0m\u001b[0;34m,\u001b[0m\u001b[0;34m\u001b[0m\n",
      "\u001b[0;34m\u001b[0m    \u001b[0mapprox_on_full_history\u001b[0m\u001b[0;34m=\u001b[0m\u001b[0;32mNone\u001b[0m\u001b[0;34m,\u001b[0m\u001b[0;34m\u001b[0m\n",
      "\u001b[0;34m\u001b[0m    \u001b[0mboosting_type\u001b[0m\u001b[0;34m=\u001b[0m\u001b[0;32mNone\u001b[0m\u001b[0;34m,\u001b[0m\u001b[0;34m\u001b[0m\n",
      "\u001b[0;34m\u001b[0m    \u001b[0msimple_ctr\u001b[0m\u001b[0;34m=\u001b[0m\u001b[0;32mNone\u001b[0m\u001b[0;34m,\u001b[0m\u001b[0;34m\u001b[0m\n",
      "\u001b[0;34m\u001b[0m    \u001b[0mcombinations_ctr\u001b[0m\u001b[0;34m=\u001b[0m\u001b[0;32mNone\u001b[0m\u001b[0;34m,\u001b[0m\u001b[0;34m\u001b[0m\n",
      "\u001b[0;34m\u001b[0m    \u001b[0mper_feature_ctr\u001b[0m\u001b[0;34m=\u001b[0m\u001b[0;32mNone\u001b[0m\u001b[0;34m,\u001b[0m\u001b[0;34m\u001b[0m\n",
      "\u001b[0;34m\u001b[0m    \u001b[0mctr_description\u001b[0m\u001b[0;34m=\u001b[0m\u001b[0;32mNone\u001b[0m\u001b[0;34m,\u001b[0m\u001b[0;34m\u001b[0m\n",
      "\u001b[0;34m\u001b[0m    \u001b[0mctr_target_border_count\u001b[0m\u001b[0;34m=\u001b[0m\u001b[0;32mNone\u001b[0m\u001b[0;34m,\u001b[0m\u001b[0;34m\u001b[0m\n",
      "\u001b[0;34m\u001b[0m    \u001b[0mtask_type\u001b[0m\u001b[0;34m=\u001b[0m\u001b[0;32mNone\u001b[0m\u001b[0;34m,\u001b[0m\u001b[0;34m\u001b[0m\n",
      "\u001b[0;34m\u001b[0m    \u001b[0mdevice_config\u001b[0m\u001b[0;34m=\u001b[0m\u001b[0;32mNone\u001b[0m\u001b[0;34m,\u001b[0m\u001b[0;34m\u001b[0m\n",
      "\u001b[0;34m\u001b[0m    \u001b[0mdevices\u001b[0m\u001b[0;34m=\u001b[0m\u001b[0;32mNone\u001b[0m\u001b[0;34m,\u001b[0m\u001b[0;34m\u001b[0m\n",
      "\u001b[0;34m\u001b[0m    \u001b[0mbootstrap_type\u001b[0m\u001b[0;34m=\u001b[0m\u001b[0;32mNone\u001b[0m\u001b[0;34m,\u001b[0m\u001b[0;34m\u001b[0m\n",
      "\u001b[0;34m\u001b[0m    \u001b[0msubsample\u001b[0m\u001b[0;34m=\u001b[0m\u001b[0;32mNone\u001b[0m\u001b[0;34m,\u001b[0m\u001b[0;34m\u001b[0m\n",
      "\u001b[0;34m\u001b[0m    \u001b[0mmvs_reg\u001b[0m\u001b[0;34m=\u001b[0m\u001b[0;32mNone\u001b[0m\u001b[0;34m,\u001b[0m\u001b[0;34m\u001b[0m\n",
      "\u001b[0;34m\u001b[0m    \u001b[0msampling_unit\u001b[0m\u001b[0;34m=\u001b[0m\u001b[0;32mNone\u001b[0m\u001b[0;34m,\u001b[0m\u001b[0;34m\u001b[0m\n",
      "\u001b[0;34m\u001b[0m    \u001b[0msampling_frequency\u001b[0m\u001b[0;34m=\u001b[0m\u001b[0;32mNone\u001b[0m\u001b[0;34m,\u001b[0m\u001b[0;34m\u001b[0m\n",
      "\u001b[0;34m\u001b[0m    \u001b[0mdev_score_calc_obj_block_size\u001b[0m\u001b[0;34m=\u001b[0m\u001b[0;32mNone\u001b[0m\u001b[0;34m,\u001b[0m\u001b[0;34m\u001b[0m\n",
      "\u001b[0;34m\u001b[0m    \u001b[0mdev_efb_max_buckets\u001b[0m\u001b[0;34m=\u001b[0m\u001b[0;32mNone\u001b[0m\u001b[0;34m,\u001b[0m\u001b[0;34m\u001b[0m\n",
      "\u001b[0;34m\u001b[0m    \u001b[0msparse_features_conflict_fraction\u001b[0m\u001b[0;34m=\u001b[0m\u001b[0;32mNone\u001b[0m\u001b[0;34m,\u001b[0m\u001b[0;34m\u001b[0m\n",
      "\u001b[0;34m\u001b[0m    \u001b[0mmax_depth\u001b[0m\u001b[0;34m=\u001b[0m\u001b[0;32mNone\u001b[0m\u001b[0;34m,\u001b[0m\u001b[0;34m\u001b[0m\n",
      "\u001b[0;34m\u001b[0m    \u001b[0mn_estimators\u001b[0m\u001b[0;34m=\u001b[0m\u001b[0;32mNone\u001b[0m\u001b[0;34m,\u001b[0m\u001b[0;34m\u001b[0m\n",
      "\u001b[0;34m\u001b[0m    \u001b[0mnum_boost_round\u001b[0m\u001b[0;34m=\u001b[0m\u001b[0;32mNone\u001b[0m\u001b[0;34m,\u001b[0m\u001b[0;34m\u001b[0m\n",
      "\u001b[0;34m\u001b[0m    \u001b[0mnum_trees\u001b[0m\u001b[0;34m=\u001b[0m\u001b[0;32mNone\u001b[0m\u001b[0;34m,\u001b[0m\u001b[0;34m\u001b[0m\n",
      "\u001b[0;34m\u001b[0m    \u001b[0mcolsample_bylevel\u001b[0m\u001b[0;34m=\u001b[0m\u001b[0;32mNone\u001b[0m\u001b[0;34m,\u001b[0m\u001b[0;34m\u001b[0m\n",
      "\u001b[0;34m\u001b[0m    \u001b[0mrandom_state\u001b[0m\u001b[0;34m=\u001b[0m\u001b[0;32mNone\u001b[0m\u001b[0;34m,\u001b[0m\u001b[0;34m\u001b[0m\n",
      "\u001b[0;34m\u001b[0m    \u001b[0mreg_lambda\u001b[0m\u001b[0;34m=\u001b[0m\u001b[0;32mNone\u001b[0m\u001b[0;34m,\u001b[0m\u001b[0;34m\u001b[0m\n",
      "\u001b[0;34m\u001b[0m    \u001b[0mobjective\u001b[0m\u001b[0;34m=\u001b[0m\u001b[0;32mNone\u001b[0m\u001b[0;34m,\u001b[0m\u001b[0;34m\u001b[0m\n",
      "\u001b[0;34m\u001b[0m    \u001b[0meta\u001b[0m\u001b[0;34m=\u001b[0m\u001b[0;32mNone\u001b[0m\u001b[0;34m,\u001b[0m\u001b[0;34m\u001b[0m\n",
      "\u001b[0;34m\u001b[0m    \u001b[0mmax_bin\u001b[0m\u001b[0;34m=\u001b[0m\u001b[0;32mNone\u001b[0m\u001b[0;34m,\u001b[0m\u001b[0;34m\u001b[0m\n",
      "\u001b[0;34m\u001b[0m    \u001b[0mscale_pos_weight\u001b[0m\u001b[0;34m=\u001b[0m\u001b[0;32mNone\u001b[0m\u001b[0;34m,\u001b[0m\u001b[0;34m\u001b[0m\n",
      "\u001b[0;34m\u001b[0m    \u001b[0mgpu_cat_features_storage\u001b[0m\u001b[0;34m=\u001b[0m\u001b[0;32mNone\u001b[0m\u001b[0;34m,\u001b[0m\u001b[0;34m\u001b[0m\n",
      "\u001b[0;34m\u001b[0m    \u001b[0mdata_partition\u001b[0m\u001b[0;34m=\u001b[0m\u001b[0;32mNone\u001b[0m\u001b[0;34m,\u001b[0m\u001b[0;34m\u001b[0m\n",
      "\u001b[0;34m\u001b[0m    \u001b[0mmetadata\u001b[0m\u001b[0;34m=\u001b[0m\u001b[0;32mNone\u001b[0m\u001b[0;34m,\u001b[0m\u001b[0;34m\u001b[0m\n",
      "\u001b[0;34m\u001b[0m    \u001b[0mearly_stopping_rounds\u001b[0m\u001b[0;34m=\u001b[0m\u001b[0;32mNone\u001b[0m\u001b[0;34m,\u001b[0m\u001b[0;34m\u001b[0m\n",
      "\u001b[0;34m\u001b[0m    \u001b[0mcat_features\u001b[0m\u001b[0;34m=\u001b[0m\u001b[0;32mNone\u001b[0m\u001b[0;34m,\u001b[0m\u001b[0;34m\u001b[0m\n",
      "\u001b[0;34m\u001b[0m    \u001b[0mgrow_policy\u001b[0m\u001b[0;34m=\u001b[0m\u001b[0;32mNone\u001b[0m\u001b[0;34m,\u001b[0m\u001b[0;34m\u001b[0m\n",
      "\u001b[0;34m\u001b[0m    \u001b[0mmin_data_in_leaf\u001b[0m\u001b[0;34m=\u001b[0m\u001b[0;32mNone\u001b[0m\u001b[0;34m,\u001b[0m\u001b[0;34m\u001b[0m\n",
      "\u001b[0;34m\u001b[0m    \u001b[0mmin_child_samples\u001b[0m\u001b[0;34m=\u001b[0m\u001b[0;32mNone\u001b[0m\u001b[0;34m,\u001b[0m\u001b[0;34m\u001b[0m\n",
      "\u001b[0;34m\u001b[0m    \u001b[0mmax_leaves\u001b[0m\u001b[0;34m=\u001b[0m\u001b[0;32mNone\u001b[0m\u001b[0;34m,\u001b[0m\u001b[0;34m\u001b[0m\n",
      "\u001b[0;34m\u001b[0m    \u001b[0mnum_leaves\u001b[0m\u001b[0;34m=\u001b[0m\u001b[0;32mNone\u001b[0m\u001b[0;34m,\u001b[0m\u001b[0;34m\u001b[0m\n",
      "\u001b[0;34m\u001b[0m    \u001b[0mscore_function\u001b[0m\u001b[0;34m=\u001b[0m\u001b[0;32mNone\u001b[0m\u001b[0;34m,\u001b[0m\u001b[0;34m\u001b[0m\n",
      "\u001b[0;34m\u001b[0m    \u001b[0mleaf_estimation_backtracking\u001b[0m\u001b[0;34m=\u001b[0m\u001b[0;32mNone\u001b[0m\u001b[0;34m,\u001b[0m\u001b[0;34m\u001b[0m\n",
      "\u001b[0;34m\u001b[0m    \u001b[0mctr_history_unit\u001b[0m\u001b[0;34m=\u001b[0m\u001b[0;32mNone\u001b[0m\u001b[0;34m,\u001b[0m\u001b[0;34m\u001b[0m\n",
      "\u001b[0;34m\u001b[0m    \u001b[0mmonotone_constraints\u001b[0m\u001b[0;34m=\u001b[0m\u001b[0;32mNone\u001b[0m\u001b[0;34m,\u001b[0m\u001b[0;34m\u001b[0m\n",
      "\u001b[0;34m\u001b[0m    \u001b[0mfeature_weights\u001b[0m\u001b[0;34m=\u001b[0m\u001b[0;32mNone\u001b[0m\u001b[0;34m,\u001b[0m\u001b[0;34m\u001b[0m\n",
      "\u001b[0;34m\u001b[0m    \u001b[0mpenalties_coefficient\u001b[0m\u001b[0;34m=\u001b[0m\u001b[0;32mNone\u001b[0m\u001b[0;34m,\u001b[0m\u001b[0;34m\u001b[0m\n",
      "\u001b[0;34m\u001b[0m    \u001b[0mfirst_feature_use_penalties\u001b[0m\u001b[0;34m=\u001b[0m\u001b[0;32mNone\u001b[0m\u001b[0;34m,\u001b[0m\u001b[0;34m\u001b[0m\n",
      "\u001b[0;34m\u001b[0m    \u001b[0mper_object_feature_penalties\u001b[0m\u001b[0;34m=\u001b[0m\u001b[0;32mNone\u001b[0m\u001b[0;34m,\u001b[0m\u001b[0;34m\u001b[0m\n",
      "\u001b[0;34m\u001b[0m    \u001b[0mmodel_shrink_rate\u001b[0m\u001b[0;34m=\u001b[0m\u001b[0;32mNone\u001b[0m\u001b[0;34m,\u001b[0m\u001b[0;34m\u001b[0m\n",
      "\u001b[0;34m\u001b[0m    \u001b[0mmodel_shrink_mode\u001b[0m\u001b[0;34m=\u001b[0m\u001b[0;32mNone\u001b[0m\u001b[0;34m,\u001b[0m\u001b[0;34m\u001b[0m\n",
      "\u001b[0;34m\u001b[0m    \u001b[0mlangevin\u001b[0m\u001b[0;34m=\u001b[0m\u001b[0;32mNone\u001b[0m\u001b[0;34m,\u001b[0m\u001b[0;34m\u001b[0m\n",
      "\u001b[0;34m\u001b[0m    \u001b[0mdiffusion_temperature\u001b[0m\u001b[0;34m=\u001b[0m\u001b[0;32mNone\u001b[0m\u001b[0;34m,\u001b[0m\u001b[0;34m\u001b[0m\n",
      "\u001b[0;34m\u001b[0m    \u001b[0mposterior_sampling\u001b[0m\u001b[0;34m=\u001b[0m\u001b[0;32mNone\u001b[0m\u001b[0;34m,\u001b[0m\u001b[0;34m\u001b[0m\n",
      "\u001b[0;34m\u001b[0m    \u001b[0mboost_from_average\u001b[0m\u001b[0;34m=\u001b[0m\u001b[0;32mNone\u001b[0m\u001b[0;34m,\u001b[0m\u001b[0;34m\u001b[0m\n",
      "\u001b[0;34m\u001b[0m    \u001b[0mtext_features\u001b[0m\u001b[0;34m=\u001b[0m\u001b[0;32mNone\u001b[0m\u001b[0;34m,\u001b[0m\u001b[0;34m\u001b[0m\n",
      "\u001b[0;34m\u001b[0m    \u001b[0mtokenizers\u001b[0m\u001b[0;34m=\u001b[0m\u001b[0;32mNone\u001b[0m\u001b[0;34m,\u001b[0m\u001b[0;34m\u001b[0m\n",
      "\u001b[0;34m\u001b[0m    \u001b[0mdictionaries\u001b[0m\u001b[0;34m=\u001b[0m\u001b[0;32mNone\u001b[0m\u001b[0;34m,\u001b[0m\u001b[0;34m\u001b[0m\n",
      "\u001b[0;34m\u001b[0m    \u001b[0mfeature_calcers\u001b[0m\u001b[0;34m=\u001b[0m\u001b[0;32mNone\u001b[0m\u001b[0;34m,\u001b[0m\u001b[0;34m\u001b[0m\n",
      "\u001b[0;34m\u001b[0m    \u001b[0mtext_processing\u001b[0m\u001b[0;34m=\u001b[0m\u001b[0;32mNone\u001b[0m\u001b[0;34m,\u001b[0m\u001b[0;34m\u001b[0m\n",
      "\u001b[0;34m\u001b[0m    \u001b[0membedding_features\u001b[0m\u001b[0;34m=\u001b[0m\u001b[0;32mNone\u001b[0m\u001b[0;34m,\u001b[0m\u001b[0;34m\u001b[0m\n",
      "\u001b[0;34m\u001b[0m    \u001b[0mcallback\u001b[0m\u001b[0;34m=\u001b[0m\u001b[0;32mNone\u001b[0m\u001b[0;34m,\u001b[0m\u001b[0;34m\u001b[0m\n",
      "\u001b[0;34m\u001b[0m\u001b[0;34m)\u001b[0m\u001b[0;34m\u001b[0m\u001b[0;34m\u001b[0m\u001b[0m\n",
      "\u001b[0;31mDocstring:\u001b[0m     \n",
      "Implementation of the scikit-learn API for CatBoost classification.\n",
      "\n",
      "Parameters\n",
      "----------\n",
      "iterations : int, [default=500]\n",
      "    Max count of trees.\n",
      "    range: [1,+inf]\n",
      "learning_rate : float, [default value is selected automatically for binary classification with other parameters set to default. In all other cases default is 0.03]\n",
      "    Step size shrinkage used in update to prevents overfitting.\n",
      "    range: (0,1]\n",
      "depth : int, [default=6]\n",
      "    Depth of a tree. All trees are the same depth.\n",
      "    range: [1,+inf]\n",
      "l2_leaf_reg : float, [default=3.0]\n",
      "    Coefficient at the L2 regularization term of the cost function.\n",
      "    range: [0,+inf]\n",
      "model_size_reg : float, [default=None]\n",
      "    Model size regularization coefficient.\n",
      "    range: [0,+inf]\n",
      "rsm : float, [default=None]\n",
      "    Subsample ratio of columns when constructing each tree.\n",
      "    range: (0,1]\n",
      "loss_function : string or object, [default='Logloss']\n",
      "    The metric to use in training and also selector of the machine learning\n",
      "    problem to solve. If string, then the name of a supported metric,\n",
      "    optionally suffixed with parameter description.\n",
      "    If object, it shall provide methods 'calc_ders_range' or 'calc_ders_multi'.\n",
      "border_count : int, [default = 254 for training on CPU or 128 for training on GPU]\n",
      "    The number of partitions in numeric features binarization. Used in the preliminary calculation.\n",
      "    range: [1,65535] on CPU, [1,255] on GPU\n",
      "feature_border_type : string, [default='GreedyLogSum']\n",
      "    The binarization mode in numeric features binarization. Used in the preliminary calculation.\n",
      "    Possible values:\n",
      "        - 'Median'\n",
      "        - 'Uniform'\n",
      "        - 'UniformAndQuantiles'\n",
      "        - 'GreedyLogSum'\n",
      "        - 'MaxLogSum'\n",
      "        - 'MinEntropy'\n",
      "per_float_feature_quantization : list of strings, [default=None]\n",
      "    List of float binarization descriptions.\n",
      "    Format : described in documentation on catboost.ai\n",
      "    Example 1: ['0:1024'] means that feature 0 will have 1024 borders.\n",
      "    Example 2: ['0:border_count=1024', '1:border_count=1024', ...] means that two first features have 1024 borders.\n",
      "    Example 3: ['0:nan_mode=Forbidden,border_count=32,border_type=GreedyLogSum',\n",
      "                '1:nan_mode=Forbidden,border_count=32,border_type=GreedyLogSum'] - defines more quantization properties for first two features.\n",
      "input_borders : string or pathlib.Path, [default=None]\n",
      "    input file with borders used in numeric features binarization.\n",
      "output_borders : string, [default=None]\n",
      "    output file for borders that were used in numeric features binarization.\n",
      "fold_permutation_block : int, [default=1]\n",
      "    To accelerate the learning.\n",
      "    The recommended value is within [1, 256]. On small samples, must be set to 1.\n",
      "    range: [1,+inf]\n",
      "od_pval : float, [default=None]\n",
      "    Use overfitting detector to stop training when reaching a specified threshold.\n",
      "    Can be used only with eval_set.\n",
      "    range: [0,1]\n",
      "od_wait : int, [default=None]\n",
      "    Number of iterations which overfitting detector will wait after new best error.\n",
      "od_type : string, [default=None]\n",
      "    Type of overfitting detector which will be used in program.\n",
      "    Posible values:\n",
      "        - 'IncToDec'\n",
      "        - 'Iter'\n",
      "    For 'Iter' type od_pval must not be set.\n",
      "    If None, then od_type=IncToDec.\n",
      "nan_mode : string, [default=None]\n",
      "    Way to process missing values for numeric features.\n",
      "    Possible values:\n",
      "        - 'Forbidden' - raises an exception if there is a missing value for a numeric feature in a dataset.\n",
      "        - 'Min' - each missing value will be processed as the minimum numerical value.\n",
      "        - 'Max' - each missing value will be processed as the maximum numerical value.\n",
      "    If None, then nan_mode=Min.\n",
      "counter_calc_method : string, [default=None]\n",
      "    The method used to calculate counters for dataset with Counter type.\n",
      "    Possible values:\n",
      "        - 'PrefixTest' - only objects up to current in the test dataset are considered\n",
      "        - 'FullTest' - all objects are considered in the test dataset\n",
      "        - 'SkipTest' - Objects from test dataset are not considered\n",
      "        - 'Full' - all objects are considered for both learn and test dataset\n",
      "    If None, then counter_calc_method=PrefixTest.\n",
      "leaf_estimation_iterations : int, [default=None]\n",
      "    The number of steps in the gradient when calculating the values in the leaves.\n",
      "    If None, then leaf_estimation_iterations=1.\n",
      "    range: [1,+inf]\n",
      "leaf_estimation_method : string, [default=None]\n",
      "    The method used to calculate the values in the leaves.\n",
      "    Possible values:\n",
      "        - 'Newton'\n",
      "        - 'Gradient'\n",
      "thread_count : int, [default=None]\n",
      "    Number of parallel threads used to run CatBoost.\n",
      "    If None or -1, then the number of threads is set to the number of CPU cores.\n",
      "    range: [1,+inf]\n",
      "random_seed : int, [default=None]\n",
      "    Random number seed.\n",
      "    If None, 0 is used.\n",
      "    range: [0,+inf]\n",
      "use_best_model : bool, [default=None]\n",
      "    To limit the number of trees in predict() using information about the optimal value of the error function.\n",
      "    Can be used only with eval_set.\n",
      "best_model_min_trees : int, [default=None]\n",
      "    The minimal number of trees the best model should have.\n",
      "verbose: bool\n",
      "    When set to True, logging_level is set to 'Verbose'.\n",
      "    When set to False, logging_level is set to 'Silent'.\n",
      "silent: bool, synonym for verbose\n",
      "logging_level : string, [default='Verbose']\n",
      "    Possible values:\n",
      "        - 'Silent'\n",
      "        - 'Verbose'\n",
      "        - 'Info'\n",
      "        - 'Debug'\n",
      "metric_period : int, [default=1]\n",
      "    The frequency of iterations to print the information to stdout. The value should be a positive integer.\n",
      "simple_ctr: list of strings, [default=None]\n",
      "    Binarization settings for categorical features.\n",
      "        Format : see documentation\n",
      "        Example: ['Borders:CtrBorderCount=5:Prior=0:Prior=0.5', 'BinarizedTargetMeanValue:TargetBorderCount=10:TargetBorderType=MinEntropy', ...]\n",
      "        CTR types:\n",
      "            CPU and GPU\n",
      "            - 'Borders'\n",
      "            - 'Buckets'\n",
      "            CPU only\n",
      "            - 'BinarizedTargetMeanValue'\n",
      "            - 'Counter'\n",
      "            GPU only\n",
      "            - 'FloatTargetMeanValue'\n",
      "            - 'FeatureFreq'\n",
      "        Number_of_borders, binarization type, target borders and binarizations, priors are optional parametrs\n",
      "combinations_ctr: list of strings, [default=None]\n",
      "per_feature_ctr: list of strings, [default=None]\n",
      "ctr_target_border_count: int, [default=None]\n",
      "    Maximum number of borders used in target binarization for categorical features that need it.\n",
      "    If TargetBorderCount is specified in 'simple_ctr', 'combinations_ctr' or 'per_feature_ctr' option it\n",
      "    overrides this value.\n",
      "    range: [1, 255]\n",
      "ctr_leaf_count_limit : int, [default=None]\n",
      "    The maximum number of leaves with categorical features.\n",
      "    If the number of leaves exceeds the specified limit, some leaves are discarded.\n",
      "    The leaves to be discarded are selected as follows:\n",
      "        - The leaves are sorted by the frequency of the values.\n",
      "        - The top N leaves are selected, where N is the value specified in the parameter.\n",
      "        - All leaves starting from N+1 are discarded.\n",
      "    This option reduces the resulting model size\n",
      "    and the amount of memory required for training.\n",
      "    Note that the resulting quality of the model can be affected.\n",
      "    range: [1,+inf] (for zero limit use ignored_features)\n",
      "store_all_simple_ctr : bool, [default=None]\n",
      "    Ignore categorical features, which are not used in feature combinations,\n",
      "    when choosing candidates for exclusion.\n",
      "    Use this parameter with ctr_leaf_count_limit only.\n",
      "max_ctr_complexity : int, [default=4]\n",
      "    The maximum number of Categ features that can be combined.\n",
      "    range: [0,+inf]\n",
      "has_time : bool, [default=False]\n",
      "    To use the order in which objects are represented in the input data\n",
      "    (do not perform a random permutation of the dataset at the preprocessing stage).\n",
      "allow_const_label : bool, [default=False]\n",
      "    To allow the constant label value in dataset.\n",
      "target_border: float, [default=None]\n",
      "    Border for target binarization.\n",
      "classes_count : int, [default=None]\n",
      "    The upper limit for the numeric class label.\n",
      "    Defines the number of classes for multiclassification.\n",
      "    Only non-negative integers can be specified.\n",
      "    The given integer should be greater than any of the target values.\n",
      "    If this parameter is specified the labels for all classes in the input dataset\n",
      "    should be smaller than the given value.\n",
      "    If several of 'classes_count', 'class_weights', 'class_names' parameters are defined\n",
      "    the numbers of classes specified by each of them must be equal.\n",
      "class_weights : list or dict, [default=None]\n",
      "    Classes weights. The values are used as multipliers for the object weights.\n",
      "    If None, all classes are supposed to have weight one.\n",
      "    If list - class weights in order of class_names or sequential classes if class_names is undefined\n",
      "    If dict - dict of class_name -> class_weight.\n",
      "    If several of 'classes_count', 'class_weights', 'class_names' parameters are defined\n",
      "    the numbers of classes specified by each of them must be equal.\n",
      "auto_class_weights : string [default=None]\n",
      "    Enables automatic class weights calculation. Possible values:\n",
      "        - Balanced  # weight = maxSummaryClassWeight / summaryClassWeight, statistics determined from train pool\n",
      "        - SqrtBalanced  # weight = sqrt(maxSummaryClassWeight / summaryClassWeight)\n",
      "class_names: list of strings, [default=None]\n",
      "    Class names. Allows to redefine the default values for class labels (integer numbers).\n",
      "    If several of 'classes_count', 'class_weights', 'class_names' parameters are defined\n",
      "    the numbers of classes specified by each of them must be equal.\n",
      "one_hot_max_size : int, [default=None]\n",
      "    Convert the feature to float\n",
      "    if the number of different values that it takes exceeds the specified value.\n",
      "    Ctrs are not calculated for such features.\n",
      "random_strength : float, [default=1]\n",
      "    Score standard deviation multiplier.\n",
      "name : string, [default='experiment']\n",
      "    The name that should be displayed in the visualization tools.\n",
      "ignored_features : list, [default=None]\n",
      "    Indices or names of features that should be excluded when training.\n",
      "train_dir : string or pathlib.Path, [default=None]\n",
      "    The directory in which you want to record generated in the process of learning files.\n",
      "custom_metric : string or list of strings, [default=None]\n",
      "    To use your own metric function.\n",
      "custom_loss: alias to custom_metric\n",
      "eval_metric : string or object, [default=None]\n",
      "    To optimize your custom metric in loss.\n",
      "bagging_temperature : float, [default=None]\n",
      "    Controls intensity of Bayesian bagging. The higher the temperature the more aggressive bagging is.\n",
      "    Typical values are in range [0, 1] (0 - no bagging, 1 - default).\n",
      "save_snapshot : bool, [default=None]\n",
      "    Enable progress snapshotting for restoring progress after crashes or interruptions\n",
      "snapshot_file : string or pathlib.Path, [default=None]\n",
      "    Learn progress snapshot file path, if None will use default filename\n",
      "snapshot_interval: int, [default=600]\n",
      "    Interval between saving snapshots (seconds)\n",
      "fold_len_multiplier : float, [default=None]\n",
      "    Fold length multiplier. Should be greater than 1\n",
      "used_ram_limit : string or number, [default=None]\n",
      "    Set a limit on memory consumption (value like '1.2gb' or 1.2e9).\n",
      "    WARNING: Currently this option affects CTR memory usage only.\n",
      "gpu_ram_part : float, [default=0.95]\n",
      "    Fraction of the GPU RAM to use for training, a value from (0, 1].\n",
      "pinned_memory_size: int [default=None]\n",
      "    Size of additional CPU pinned memory used for GPU learning,\n",
      "    usually is estimated automatically, thus usually should not be set.\n",
      "allow_writing_files : bool, [default=True]\n",
      "    If this flag is set to False, no files with different diagnostic info will be created during training.\n",
      "    With this flag no snapshotting can be done. Plus visualisation will not\n",
      "    work, because visualisation uses files that are created and updated during training.\n",
      "final_ctr_computation_mode : string, [default='Default']\n",
      "    Possible values:\n",
      "        - 'Default' - Compute final ctrs for all pools.\n",
      "        - 'Skip' - Skip final ctr computation. WARNING: model without ctrs can't be applied.\n",
      "approx_on_full_history : bool, [default=False]\n",
      "    If this flag is set to True, each approximated value is calculated using all the preceeding rows in the fold (slower, more accurate).\n",
      "    If this flag is set to False, each approximated value is calculated using only the beginning 1/fold_len_multiplier fraction of the fold (faster, slightly less accurate).\n",
      "boosting_type : string, default value depends on object count and feature count in train dataset and on learning mode.\n",
      "    Boosting scheme.\n",
      "    Possible values:\n",
      "        - 'Ordered' - Gives better quality, but may slow down the training.\n",
      "        - 'Plain' - The classic gradient boosting scheme. May result in quality degradation, but does not slow down the training.\n",
      "task_type : string, [default=None]\n",
      "    The calcer type used to train the model.\n",
      "    Possible values:\n",
      "        - 'CPU'\n",
      "        - 'GPU'\n",
      "device_config : string, [default=None], deprecated, use devices instead\n",
      "devices : list or string, [default=None], GPU devices to use.\n",
      "    String format is: '0' for 1 device or '0:1:3' for multiple devices or '0-3' for range of devices.\n",
      "    List format is : [0] for 1 device or [0,1,3] for multiple devices.\n",
      "\n",
      "bootstrap_type : string, Bayesian, Bernoulli, Poisson, MVS.\n",
      "    Default bootstrap is Bayesian for GPU and MVS for CPU.\n",
      "    Poisson bootstrap is supported only on GPU.\n",
      "    MVS bootstrap is supported only on CPU.\n",
      "\n",
      "subsample : float, [default=None]\n",
      "    Sample rate for bagging. This parameter can be used Poisson or Bernoully bootstrap types.\n",
      "\n",
      "mvs_reg : float, [default is set automatically at each iteration based on gradient distribution]\n",
      "    Regularization parameter for MVS sampling algorithm\n",
      "\n",
      "monotone_constraints : list or numpy.ndarray or string or dict, [default=None]\n",
      "    Monotone constraints for features.\n",
      "\n",
      "feature_weights : list or numpy.ndarray or string or dict, [default=None]\n",
      "    Coefficient to multiply split gain with specific feature use. Should be non-negative.\n",
      "\n",
      "penalties_coefficient : float, [default=1]\n",
      "    Common coefficient for all penalties. Should be non-negative.\n",
      "\n",
      "first_feature_use_penalties : list or numpy.ndarray or string or dict, [default=None]\n",
      "    Penalties to first use of specific feature in model. Should be non-negative.\n",
      "\n",
      "per_object_feature_penalties : list or numpy.ndarray or string or dict, [default=None]\n",
      "    Penalties for first use of feature for each object. Should be non-negative.\n",
      "\n",
      "sampling_frequency : string, [default=PerTree]\n",
      "    Frequency to sample weights and objects when building trees.\n",
      "    Possible values:\n",
      "        - 'PerTree' - Before constructing each new tree\n",
      "        - 'PerTreeLevel' - Before choosing each new split of a tree\n",
      "\n",
      "sampling_unit : string, [default='Object'].\n",
      "    Possible values:\n",
      "        - 'Object'\n",
      "        - 'Group'\n",
      "    The parameter allows to specify the sampling scheme:\n",
      "    sample weights for each object individually or for an entire group of objects together.\n",
      "\n",
      "dev_score_calc_obj_block_size: int, [default=5000000]\n",
      "    CPU only. Size of block of samples in score calculation. Should be > 0\n",
      "    Used only for learning speed tuning.\n",
      "    Changing this parameter can affect results due to numerical accuracy differences\n",
      "\n",
      "dev_efb_max_buckets : int, [default=1024]\n",
      "    CPU only. Maximum bucket count in exclusive features bundle. Should be in an integer between 0 and 65536.\n",
      "    Used only for learning speed tuning.\n",
      "\n",
      "sparse_features_conflict_fraction : float, [default=0.0]\n",
      "    CPU only. Maximum allowed fraction of conflicting non-default values for features in exclusive features bundle.\n",
      "    Should be a real value in [0, 1) interval.\n",
      "\n",
      "grow_policy : string, [SymmetricTree,Lossguide,Depthwise], [default=SymmetricTree]\n",
      "    The tree growing policy. It describes how to perform greedy tree construction.\n",
      "\n",
      "min_data_in_leaf : int, [default=1].\n",
      "    The minimum training samples count in leaf.\n",
      "    CatBoost will not search for new splits in leaves with samples count less than min_data_in_leaf.\n",
      "    This parameter is used only for Depthwise and Lossguide growing policies.\n",
      "\n",
      "max_leaves : int, [default=31],\n",
      "    The maximum leaf count in resulting tree.\n",
      "    This parameter is used only for Lossguide growing policy.\n",
      "\n",
      "score_function : string, possible values L2, Cosine, NewtonL2, NewtonCosine, [default=Cosine]\n",
      "    For growing policy Lossguide default=NewtonL2.\n",
      "    GPU only. Score that is used during tree construction to select the next tree split.\n",
      "\n",
      "max_depth : int, Synonym for depth.\n",
      "\n",
      "n_estimators : int, synonym for iterations.\n",
      "\n",
      "num_trees : int, synonym for iterations.\n",
      "\n",
      "num_boost_round : int, synonym for iterations.\n",
      "\n",
      "colsample_bylevel : float, synonym for rsm.\n",
      "\n",
      "random_state : int, synonym for random_seed.\n",
      "\n",
      "reg_lambda : float, synonym for l2_leaf_reg.\n",
      "\n",
      "objective : string, synonym for loss_function.\n",
      "\n",
      "num_leaves : int, synonym for max_leaves.\n",
      "\n",
      "min_child_samples : int, synonym for min_data_in_leaf\n",
      "\n",
      "eta : float, synonym for learning_rate.\n",
      "\n",
      "max_bin : float, synonym for border_count.\n",
      "\n",
      "scale_pos_weight : float, synonym for class_weights.\n",
      "    Can be used only for binary classification. Sets weight multiplier for\n",
      "    class 1 to scale_pos_weight value.\n",
      "\n",
      "metadata : dict, string to string key-value pairs to be stored in model metadata storage\n",
      "\n",
      "early_stopping_rounds : int\n",
      "    Synonym for od_wait. Only one of these parameters should be set.\n",
      "\n",
      "cat_features : list or numpy.ndarray, [default=None]\n",
      "    If not None, giving the list of Categ features indices or names (names are represented as strings).\n",
      "    If it contains feature names, feature names must be defined for the training dataset passed to 'fit'.\n",
      "\n",
      "text_features : list or numpy.ndarray, [default=None]\n",
      "    If not None, giving the list of Text features indices or names (names are represented as strings).\n",
      "    If it contains feature names, feature names must be defined for the training dataset passed to 'fit'.\n",
      "\n",
      "embedding_features : list or numpy.ndarray, [default=None]\n",
      "    If not None, giving the list of Embedding features indices or names (names are represented as strings).\n",
      "    If it contains feature names, feature names must be defined for the training dataset passed to 'fit'.\n",
      "\n",
      "leaf_estimation_backtracking : string, [default=None]\n",
      "    Type of backtracking during gradient descent.\n",
      "    Possible values:\n",
      "        - 'No' - never backtrack; supported on CPU and GPU\n",
      "        - 'AnyImprovement' - reduce the descent step until the value of loss function is less than before the step; supported on CPU and GPU\n",
      "        - 'Armijo' - reduce the descent step until Armijo condition is satisfied; supported on GPU only\n",
      "\n",
      "model_shrink_rate : float, [default=0]\n",
      "    This parameter enables shrinkage of model at the start of each iteration. CPU only.\n",
      "    For Constant mode shrinkage coefficient is calculated as (1 - model_shrink_rate * learning_rate).\n",
      "    For Decreasing mode shrinkage coefficient is calculated as (1 - model_shrink_rate / iteration).\n",
      "    Shrinkage coefficient should be in [0, 1).\n",
      "\n",
      "model_shrink_mode : string, [default=None]\n",
      "    Mode of shrinkage coefficient calculation. CPU only.\n",
      "    Possible values:\n",
      "        - 'Constant' - Shrinkage coefficient is constant at each iteration.\n",
      "        - 'Decreasing' - Shrinkage coefficient decreases at each iteration.\n",
      "\n",
      "langevin : bool, [default=False]\n",
      "    Enables the Stochastic Gradient Langevin Boosting. CPU only.\n",
      "\n",
      "diffusion_temperature : float, [default=0]\n",
      "    Langevin boosting diffusion temperature. CPU only.\n",
      "\n",
      "posterior_sampling : bool, [default=False]\n",
      "    Set group of parameters for further use Uncertainty prediction:\n",
      "        - Langevin = True\n",
      "        - Model Shrink Rate = 1/(2N), where N is dataset size\n",
      "        - Model Shrink Mode = Constant\n",
      "        - Diffusion-temperature = N, where N is dataset size. CPU only.\n",
      "\n",
      "boost_from_average : bool, [default=True for RMSE, False for other losses]\n",
      "    Enables to initialize approx values by best constant value for specified loss function.\n",
      "    Available for RMSE, Logloss, CrossEntropy, Quantile and MAE.\n",
      "\n",
      "tokenizers : list of dicts,\n",
      "    Each dict is a tokenizer description. Example:\n",
      "    ```\n",
      "    [\n",
      "        {\n",
      "            'tokenizer_id': 'Tokenizer',  # Tokeinzer identifier.\n",
      "            'lowercasing': 'false',  # Possible values: 'true', 'false'.\n",
      "            'number_process_policy': 'LeaveAsIs',  # Possible values: 'Skip', 'LeaveAsIs', 'Replace'.\n",
      "            'number_token': '%',  # Rarely used character. Used in conjunction with Replace NumberProcessPolicy.\n",
      "            'separator_type': 'ByDelimiter',  # Possible values: 'ByDelimiter', 'BySense'.\n",
      "            'delimiter': ' ',  # Used in conjunction with ByDelimiter SeparatorType.\n",
      "            'split_by_set': 'false',  # Each single character in delimiter used as individual delimiter.\n",
      "            'skip_empty': 'true',  # Possible values: 'true', 'false'.\n",
      "            'token_types': ['Word', 'Number', 'Unknown'],  # Used in conjunction with BySense SeparatorType.\n",
      "                # Possible values: 'Word', 'Number', 'Punctuation', 'SentenceBreak', 'ParagraphBreak', 'Unknown'.\n",
      "            'subtokens_policy': 'SingleToken',  # Possible values:\n",
      "                # 'SingleToken' - All subtokens are interpreted as single token).\n",
      "                # 'SeveralTokens' - All subtokens are interpreted as several token.\n",
      "        },\n",
      "        ...\n",
      "    ]\n",
      "    ```\n",
      "\n",
      "dictionaries : list of dicts,\n",
      "    Each dict is a tokenizer description. Example:\n",
      "    ```\n",
      "    [\n",
      "        {\n",
      "            'dictionary_id': 'Dictionary',  # Dictionary identifier.\n",
      "            'token_level_type': 'Word',  # Possible values: 'Word', 'Letter'.\n",
      "            'gram_order': '1',  # 1 for Unigram, 2 for Bigram, ...\n",
      "            'skip_step': '0',  # 1 for 1-skip-gram, ...\n",
      "            'end_of_word_token_policy': 'Insert',  # Possible values: 'Insert', 'Skip'.\n",
      "            'end_of_sentence_token_policy': 'Skip',  # Possible values: 'Insert', 'Skip'.\n",
      "            'occurrence_lower_bound': '3',  # The lower bound of token occurrences in the text to include it in the dictionary.\n",
      "            'max_dictionary_size': '50000',  # The max dictionary size.\n",
      "        },\n",
      "        ...\n",
      "    ]\n",
      "    ```\n",
      "\n",
      "feature_calcers : list of strings,\n",
      "    Each string is a calcer description. Example:\n",
      "    ```\n",
      "    [\n",
      "        'NaiveBayes',\n",
      "        'BM25',\n",
      "        'BoW:top_tokens_count=2000',\n",
      "    ]\n",
      "    ```\n",
      "\n",
      "text_processing : dict,\n",
      "    Text processging description.\n",
      "\u001b[0;31mInit docstring:\u001b[0m\n",
      "Initialize the CatBoost.\n",
      "\n",
      "Parameters\n",
      "----------\n",
      "params : dict\n",
      "    Parameters for CatBoost.\n",
      "    If  None, all params are set to their defaults.\n",
      "    If  dict, overriding parameters present in dict.\n",
      "\u001b[0;31mFile:\u001b[0m           ~/repos/artificial-intelligence/tdt05/venv/lib/python3.8/site-packages/catboost/core.py\n",
      "\u001b[0;31mType:\u001b[0m           type\n",
      "\u001b[0;31mSubclasses:\u001b[0m     \n"
     ]
    }
   ],
   "source": [
    "# List all parameters for CatBoost classifier\n",
    "CatBoostClassifier?"
   ]
  },
  {
   "cell_type": "code",
   "execution_count": 107,
   "metadata": {},
   "outputs": [
    {
     "name": "stderr",
     "output_type": "stream",
     "text": [
      "/home/nicklas/repos/artificial-intelligence/tdt05/venv/lib/python3.8/site-packages/sklearn/model_selection/_search.py:292: UserWarning: The total space of parameters 96 is smaller than n_iter=100. Running 96 iterations. For exhaustive searches, use GridSearchCV.\n",
      "  warnings.warn(\n"
     ]
    },
    {
     "name": "stdout",
     "output_type": "stream",
     "text": [
      "Fitting 3 folds for each of 96 candidates, totalling 288 fits\n"
     ]
    }
   ],
   "source": [
    "from catboost import CatBoostClassifier, metrics\n",
    "from sklearn.model_selection import RandomizedSearchCV\n",
    "\n",
    "catboost_model = CatBoostClassifier(\n",
    "    random_seed=42,\n",
    "    logging_level='Silent'\n",
    ")\n",
    "\n",
    "hyperparameters = {\n",
    "    'iterations': [100, 150, 200],\n",
    "    'learning_rate': [0.03, 0.1],\n",
    "    'depth': [2, 4, 6, 8],\n",
    "    'l2_leaf_reg': [0.2, 0.5, 1, 3]\n",
    "}\n",
    "\n",
    "catboost_hyperparameters = RandomizedSearchCV(\n",
    "    estimator=catboost_model, \n",
    "    param_distributions=hyperparameters, \n",
    "    n_iter=100, \n",
    "    scoring='neg_mean_absolute_error', \n",
    "    cv=3, \n",
    "    verbose=2, \n",
    "    random_state=42, \n",
    "    n_jobs=-1,\n",
    "    return_train_score=True\n",
    ")\n",
    "\n",
    "catboost_hyperparameters.fit(X_catboost, y)"
   ]
  },
  {
   "cell_type": "code",
   "execution_count": null,
   "metadata": {},
   "outputs": [],
   "source": [
    "catboost_hyperparameters.best_params_"
   ]
  },
  {
   "cell_type": "markdown",
   "metadata": {
    "editable": false
   },
   "source": [
    "## Make predictions\n",
    "\n",
    "Make predictions from `X_test` and save to file."
   ]
  },
  {
   "cell_type": "code",
   "execution_count": null,
   "metadata": {},
   "outputs": [],
   "source": [
    "# CatBoost\n",
    "# y_pred = catboost_model.predict(X_test_catboost, prediction_type='Probability')\n",
    "# predictions = pd.DataFrame({'id': X_test_catboost.index, 'target': y_pred[:,1]})\n",
    "\n",
    "# predictions.to_csv('../output/catboost.txt', index=False)\n",
    "\n",
    "\n",
    "# XGBoost\n",
    "y_pred = xgboost_model.predict_proba(X_test_xgboost)\n",
    "predictions = pd.DataFrame({'id': X_test_xgboost.index, 'target': y_pred[:,1]})\n",
    "\n",
    "predictions.to_csv('../output/xgboost.txt', index=False)"
   ]
  },
  {
   "cell_type": "markdown",
   "metadata": {
    "editable": false
   },
   "source": [
    "## One-hot encoding\n",
    "The features labeled:\n",
    "- f0 (Boolean)\n",
    "- f1\n",
    "- f2\n",
    "- f4\n",
    "- f9\n",
    "- f10\n",
    "- f13\n",
    "- f18\n",
    "- f22\n",
    "- f25 (Boolean)\n",
    "- f26 (Boolean)\n",
    "\n",
    "Toghether with the hex features discussed above:\n",
    "- f8 \n",
    "- f12 \n",
    "- f14 \n",
    "- f15 \n",
    "- f23\n",
    "\n",
    "\n",
    "All seem to be categorical and should therefore be converted to one-hot encoding (depending on the learning algorithm)."
   ]
  },
  {
   "cell_type": "code",
   "execution_count": null,
   "metadata": {
    "editable": false
   },
   "outputs": [
    {
     "data": {
      "text/html": [
       "<div>\n",
       "<style scoped>\n",
       "    .dataframe tbody tr th:only-of-type {\n",
       "        vertical-align: middle;\n",
       "    }\n",
       "\n",
       "    .dataframe tbody tr th {\n",
       "        vertical-align: top;\n",
       "    }\n",
       "\n",
       "    .dataframe thead th {\n",
       "        text-align: right;\n",
       "    }\n",
       "</style>\n",
       "<table border=\"1\" class=\"dataframe\">\n",
       "  <thead>\n",
       "    <tr style=\"text-align: right;\">\n",
       "      <th></th>\n",
       "      <th>f3</th>\n",
       "      <th>f5</th>\n",
       "      <th>f6</th>\n",
       "      <th>f7</th>\n",
       "      <th>f11</th>\n",
       "      <th>f16</th>\n",
       "      <th>f17</th>\n",
       "      <th>f19</th>\n",
       "      <th>f20</th>\n",
       "      <th>f21</th>\n",
       "      <th>...</th>\n",
       "      <th>f23_68566024808.0</th>\n",
       "      <th>f23_68599095642.0</th>\n",
       "      <th>f23_68693218498.0</th>\n",
       "      <th>f23_68703136399.0</th>\n",
       "      <th>f25_-999.0</th>\n",
       "      <th>f25_0.0</th>\n",
       "      <th>f25_1.0</th>\n",
       "      <th>f26_-999.0</th>\n",
       "      <th>f26_0.0</th>\n",
       "      <th>f26_1.0</th>\n",
       "    </tr>\n",
       "    <tr>\n",
       "      <th>id</th>\n",
       "      <th></th>\n",
       "      <th></th>\n",
       "      <th></th>\n",
       "      <th></th>\n",
       "      <th></th>\n",
       "      <th></th>\n",
       "      <th></th>\n",
       "      <th></th>\n",
       "      <th></th>\n",
       "      <th></th>\n",
       "      <th></th>\n",
       "      <th></th>\n",
       "      <th></th>\n",
       "      <th></th>\n",
       "      <th></th>\n",
       "      <th></th>\n",
       "      <th></th>\n",
       "      <th></th>\n",
       "      <th></th>\n",
       "      <th></th>\n",
       "      <th></th>\n",
       "    </tr>\n",
       "  </thead>\n",
       "  <tbody>\n",
       "    <tr>\n",
       "      <th>0</th>\n",
       "      <td>3.0</td>\n",
       "      <td>-999.0</td>\n",
       "      <td>0.0</td>\n",
       "      <td>6.0</td>\n",
       "      <td>13.9681</td>\n",
       "      <td>2.0</td>\n",
       "      <td>0.858315</td>\n",
       "      <td>0.5</td>\n",
       "      <td>0.0</td>\n",
       "      <td>3.0</td>\n",
       "      <td>...</td>\n",
       "      <td>0</td>\n",
       "      <td>0</td>\n",
       "      <td>0</td>\n",
       "      <td>0</td>\n",
       "      <td>0</td>\n",
       "      <td>1</td>\n",
       "      <td>0</td>\n",
       "      <td>0</td>\n",
       "      <td>0</td>\n",
       "      <td>1</td>\n",
       "    </tr>\n",
       "    <tr>\n",
       "      <th>1</th>\n",
       "      <td>1.0</td>\n",
       "      <td>7.0</td>\n",
       "      <td>1.0</td>\n",
       "      <td>4.0</td>\n",
       "      <td>14.0242</td>\n",
       "      <td>-999.0</td>\n",
       "      <td>0.616743</td>\n",
       "      <td>0.4</td>\n",
       "      <td>0.0</td>\n",
       "      <td>1.0</td>\n",
       "      <td>...</td>\n",
       "      <td>0</td>\n",
       "      <td>0</td>\n",
       "      <td>0</td>\n",
       "      <td>0</td>\n",
       "      <td>0</td>\n",
       "      <td>1</td>\n",
       "      <td>0</td>\n",
       "      <td>0</td>\n",
       "      <td>0</td>\n",
       "      <td>1</td>\n",
       "    </tr>\n",
       "    <tr>\n",
       "      <th>2</th>\n",
       "      <td>1.0</td>\n",
       "      <td>10.0</td>\n",
       "      <td>1.0</td>\n",
       "      <td>6.0</td>\n",
       "      <td>14.2174</td>\n",
       "      <td>3.0</td>\n",
       "      <td>0.711389</td>\n",
       "      <td>0.5</td>\n",
       "      <td>1.0</td>\n",
       "      <td>3.0</td>\n",
       "      <td>...</td>\n",
       "      <td>0</td>\n",
       "      <td>0</td>\n",
       "      <td>0</td>\n",
       "      <td>0</td>\n",
       "      <td>0</td>\n",
       "      <td>1</td>\n",
       "      <td>0</td>\n",
       "      <td>0</td>\n",
       "      <td>0</td>\n",
       "      <td>1</td>\n",
       "    </tr>\n",
       "    <tr>\n",
       "      <th>3</th>\n",
       "      <td>3.0</td>\n",
       "      <td>7.0</td>\n",
       "      <td>1.0</td>\n",
       "      <td>1.0</td>\n",
       "      <td>13.8536</td>\n",
       "      <td>5.0</td>\n",
       "      <td>-999.000000</td>\n",
       "      <td>0.6</td>\n",
       "      <td>1.0</td>\n",
       "      <td>1.0</td>\n",
       "      <td>...</td>\n",
       "      <td>0</td>\n",
       "      <td>0</td>\n",
       "      <td>0</td>\n",
       "      <td>0</td>\n",
       "      <td>0</td>\n",
       "      <td>1</td>\n",
       "      <td>0</td>\n",
       "      <td>0</td>\n",
       "      <td>0</td>\n",
       "      <td>1</td>\n",
       "    </tr>\n",
       "    <tr>\n",
       "      <th>4</th>\n",
       "      <td>3.0</td>\n",
       "      <td>7.0</td>\n",
       "      <td>0.0</td>\n",
       "      <td>6.0</td>\n",
       "      <td>14.2347</td>\n",
       "      <td>2.0</td>\n",
       "      <td>0.572781</td>\n",
       "      <td>0.5</td>\n",
       "      <td>0.0</td>\n",
       "      <td>1.0</td>\n",
       "      <td>...</td>\n",
       "      <td>0</td>\n",
       "      <td>0</td>\n",
       "      <td>0</td>\n",
       "      <td>0</td>\n",
       "      <td>0</td>\n",
       "      <td>1</td>\n",
       "      <td>0</td>\n",
       "      <td>0</td>\n",
       "      <td>0</td>\n",
       "      <td>1</td>\n",
       "    </tr>\n",
       "  </tbody>\n",
       "</table>\n",
       "<p>5 rows × 5603 columns</p>\n",
       "</div>"
      ],
      "text/plain": [
       "     f3     f5   f6   f7      f11    f16         f17  f19  f20  f21  ...  \\\n",
       "id                                                                   ...   \n",
       "0   3.0 -999.0  0.0  6.0  13.9681    2.0    0.858315  0.5  0.0  3.0  ...   \n",
       "1   1.0    7.0  1.0  4.0  14.0242 -999.0    0.616743  0.4  0.0  1.0  ...   \n",
       "2   1.0   10.0  1.0  6.0  14.2174    3.0    0.711389  0.5  1.0  3.0  ...   \n",
       "3   3.0    7.0  1.0  1.0  13.8536    5.0 -999.000000  0.6  1.0  1.0  ...   \n",
       "4   3.0    7.0  0.0  6.0  14.2347    2.0    0.572781  0.5  0.0  1.0  ...   \n",
       "\n",
       "    f23_68566024808.0  f23_68599095642.0  f23_68693218498.0  \\\n",
       "id                                                            \n",
       "0                   0                  0                  0   \n",
       "1                   0                  0                  0   \n",
       "2                   0                  0                  0   \n",
       "3                   0                  0                  0   \n",
       "4                   0                  0                  0   \n",
       "\n",
       "    f23_68703136399.0  f25_-999.0  f25_0.0  f25_1.0  f26_-999.0  f26_0.0  \\\n",
       "id                                                                         \n",
       "0                   0           0        1        0           0        0   \n",
       "1                   0           0        1        0           0        0   \n",
       "2                   0           0        1        0           0        0   \n",
       "3                   0           0        1        0           0        0   \n",
       "4                   0           0        1        0           0        0   \n",
       "\n",
       "    f26_1.0  \n",
       "id           \n",
       "0         1  \n",
       "1         1  \n",
       "2         1  \n",
       "3         1  \n",
       "4         1  \n",
       "\n",
       "[5 rows x 5603 columns]"
      ]
     },
     "execution_count": 150,
     "metadata": {},
     "output_type": "execute_result"
    }
   ],
   "source": [
    "# One-hot encode categorical features\n",
    "categorical_features = ['f0', 'f1', 'f2', 'f4', 'f8', 'f9', 'f10', 'f12', 'f13', 'f14', 'f15', 'f18', 'f22', 'f23', 'f25', 'f26']\n",
    "\n",
    "X_encoded = pd.get_dummies(X, columns=categorical_features)\n",
    "X_encoded.head()"
   ]
  },
  {
   "cell_type": "code",
   "execution_count": null,
   "metadata": {
    "editable": false
   },
   "outputs": [],
   "source": [
    "# plt.figure(figsize=(32, 12))\n",
    "# sns.heatmap(training_data.corr(), annot=True, cmap='viridis')"
   ]
  }
 ],
 "metadata": {
  "interpreter": {
   "hash": "0d41a4a84d7a463dcebe65dc4a6a03042e2639113a7bbc2fa1ffb5cd18698043"
  },
  "kernelspec": {
   "display_name": "Python 3.8.10 64-bit ('venv': venv)",
   "name": "python3"
  },
  "language_info": {
   "codemirror_mode": {
    "name": "ipython",
    "version": 3
   },
   "file_extension": ".py",
   "mimetype": "text/x-python",
   "name": "python",
   "nbconvert_exporter": "python",
   "pygments_lexer": "ipython3",
   "version": "3.8.10"
  }
 },
 "nbformat": 4,
 "nbformat_minor": 4
}
